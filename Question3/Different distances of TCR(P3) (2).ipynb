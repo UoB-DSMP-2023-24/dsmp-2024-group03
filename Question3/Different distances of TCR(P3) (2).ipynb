{
 "cells": [
  {
   "cell_type": "code",
   "execution_count": 1,
   "metadata": {},
   "outputs": [
    {
     "name": "stdout",
     "output_type": "stream",
     "text": [
      "                  TRA                   TRB antigen_epitope vdjdb.score\n",
      "1       CIVRAPGRADMRF  CASSYLPGQGDHYSNQPQHF        FLKEKGGL           2\n",
      "2      CAVPSGAGSYQLTF   CASSFEPGQGFYSNQPQHF        FLKEKGGL           2\n",
      "3         CAVKASGSRLT  CASSYEPGQVSHYSNQPQHF        FLKEKGGL           2\n",
      "4       CAYRPPGTYKYIF        CASSALASLNEQFF        FLKEKGGL           2\n",
      "5       CIVRAPGRADMRF  CASSYLPGQGDHYSNQPQHF        FLKEQGGL           2\n",
      "...               ...                   ...             ...         ...\n",
      "30590   CMDEGGSNYKLTF         CASSVRSTDTQYF    PQPELPYPQPQL           0\n",
      "30591     CSLYNNNDMRF         CASSLRYTDTQYF    PQPELPYPQPQL           0\n",
      "30592   CALSTDSWGKLQF       CASSPGQGGDNEQFF   PQQPFPQPEQPFP           0\n",
      "30593    CAPQGATNKLIF       CASSLGAGGQETQYF   PQQPFPQPEQPFP           2\n",
      "30594  CLVGGSGGYNKLIF         CASSSTAQETQYF   PQQPFPQPEQPFP           0\n",
      "\n",
      "[30594 rows x 4 columns]\n"
     ]
    }
   ],
   "source": [
    "import pandas as pd\n",
    "from matplotlib import colors\n",
    "from sklearn.multioutput import MultiOutputRegressor\n",
    "from sklearn.neighbors import KNeighborsRegressor\n",
    "import matplotlib.pyplot as plt\n",
    "import numpy as np\n",
    "\n",
    "# 定义文件路径\n",
    "file_path = 'vdjdb.txt'  # 将 'your_file.txt' 替换为你的文件路径\n",
    "\n",
    "# 读取文件内容\n",
    "with open(file_path, 'r', encoding='utf-8') as file:\n",
    "    # 读取文件的第一行，获取所有的信息变量名\n",
    "    header = file.readline().strip().split('\\t')\n",
    "    tcr_data = [dict(zip(header, line.strip().split('\\t'))) for line in file]\n",
    "cdr3_dict = {}\n",
    "for row in tcr_data:\n",
    "    complex_id = row['complex.id']\n",
    "    cdr3 = row['cdr3']\n",
    "    # Splice together CDR3 with the same complex ID\n",
    "    if complex_id in cdr3_dict:\n",
    "        cdr3_dict[complex_id].append(cdr3)\n",
    "    else:\n",
    "        cdr3_dict[complex_id] = [cdr3]\n",
    "# There is a DataFrame containing the TCR sequence\n",
    "for row in tcr_data:\n",
    "    complex_id = row['complex.id']\n",
    "    antigen_epitope = row['antigen.epitope']\n",
    "    vdjdb_score = row['vdjdb.score']\n",
    "    # Splice together CDR3 with the same complex ID\n",
    "    if len(cdr3_dict[complex_id]) == 2:\n",
    "        cdr3_dict[complex_id].append(antigen_epitope)\n",
    "        cdr3_dict[complex_id].append(vdjdb_score)\n",
    "    else:\n",
    "        continue\n",
    "cdr3_dict.pop('0')\n",
    "##Delete unpaired TCRs\n",
    "df_cdr3 = pd.DataFrame(cdr3_dict)\n",
    "df_cdr3_trans = df_cdr3.transpose()\n",
    "names = ['TRA', 'TRB', 'antigen_epitope', 'vdjdb.score']\n",
    "df_cdr3_trans.columns = names\n",
    "print(df_cdr3_trans)\n",
    "##The first step is to read out the paired data"
   ]
  },
  {
   "cell_type": "code",
   "execution_count": 2,
   "metadata": {},
   "outputs": [
    {
     "name": "stdout",
     "output_type": "stream",
     "text": [
      "There are (391,) categories of data in the current dataset\n",
      "                    TRA                   TRB antigen_epitope vdjdb.score  \\\n",
      "0         CIVRAPGRADMRF  CASSYLPGQGDHYSNQPQHF        FLKEKGGL           2   \n",
      "1        CAVPSGAGSYQLTF   CASSFEPGQGFYSNQPQHF        FLKEKGGL           2   \n",
      "2           CAVKASGSRLT  CASSYEPGQVSHYSNQPQHF        FLKEKGGL           2   \n",
      "3         CAYRPPGTYKYIF        CASSALASLNEQFF        FLKEKGGL           2   \n",
      "4         CIVRAPGRADMRF  CASSYLPGQGDHYSNQPQHF        FLKEQGGL           2   \n",
      "...                 ...                   ...             ...         ...   \n",
      "2960         CIALNARLMF         CASSLRATDTQYF    PQPELPYPQPQL           2   \n",
      "2961   CAMREGRYSSASKIIF       CATSRAGGGGEKLFF    FPQPEQPFPWQP           2   \n",
      "2962   CLVGDGDGGATNKLIF        CASSQGSGGNEQFF    FPQPEQPFPWQP           2   \n",
      "2963  CAASVLYGSSNTGKLIF      CASSIVGSGGYNEQFF    QLQPFPQPELPY           2   \n",
      "2964       CAPQGATNKLIF       CASSLGAGGQETQYF   PQQPFPQPEQPFP           2   \n",
      "\n",
      "                       TRA_TRB_Combined  \n",
      "0     CIVRAPGRADMRFCASSYLPGQGDHYSNQPQHF  \n",
      "1     CAVPSGAGSYQLTFCASSFEPGQGFYSNQPQHF  \n",
      "2       CAVKASGSRLTCASSYEPGQVSHYSNQPQHF  \n",
      "3           CAYRPPGTYKYIFCASSALASLNEQFF  \n",
      "4     CIVRAPGRADMRFCASSYLPGQGDHYSNQPQHF  \n",
      "...                                 ...  \n",
      "2960            CIALNARLMFCASSLRATDTQYF  \n",
      "2961    CAMREGRYSSASKIIFCATSRAGGGGEKLFF  \n",
      "2962     CLVGDGDGGATNKLIFCASSQGSGGNEQFF  \n",
      "2963  CAASVLYGSSNTGKLIFCASSIVGSGGYNEQFF  \n",
      "2964        CAPQGATNKLIFCASSLGAGGQETQYF  \n",
      "\n",
      "[2965 rows x 5 columns]\n"
     ]
    },
    {
     "name": "stderr",
     "output_type": "stream",
     "text": [
      "/home/ma-user/anaconda3/envs/PyTorch-1.8/lib/python3.7/site-packages/ipykernel/__main__.py:3: SettingWithCopyWarning: \n",
      "A value is trying to be set on a copy of a slice from a DataFrame.\n",
      "Try using .loc[row_indexer,col_indexer] = value instead\n",
      "\n",
      "See the caveats in the documentation: https://pandas.pydata.org/pandas-docs/stable/user_guide/indexing.html#returning-a-view-versus-a-copy\n",
      "  app.launch_new_instance()\n"
     ]
    }
   ],
   "source": [
    "##clean the data\n",
    "df_clean = df_cdr3_trans[df_cdr3_trans['vdjdb.score'] != '0']\n",
    "df_clean['TRA_TRB_Combined'] = df_clean[\"TRA\"] + df_clean[\"TRB\"]\n",
    "df_clean = df_clean.reset_index(drop=True)\n",
    "print(\"There are {} categories of data in the current dataset\".format(np.shape(df_clean['antigen_epitope'].unique())))\n",
    "print(df_clean)"
   ]
  },
  {
   "cell_type": "code",
   "execution_count": 3,
   "metadata": {},
   "outputs": [],
   "source": [
    "##Edit Distance\n",
    "def ED(str_1, str_2):\n",
    "    m = len(str_1)\n",
    "    n = len(str_2)\n",
    "    # Initializes the dynamic programming matrix with sizes m+1 and n+1 respectively\n",
    "    Distance = [[0 for _ in range(n + 1)] for _ in range(m + 1)]\n",
    "    for i in range(n + 1):\n",
    "        Distance[0][i] = i\n",
    "    #\n",
    "    for j in range(m + 1):\n",
    "        Distance[j][0] = j\n",
    "    # Initialize the first row and column of the matrix\n",
    "    for i in range(1, m + 1):\n",
    "        for j in range(1, n + 1):\n",
    "            distance_delete = Distance[i - 1][j] + 1\n",
    "            distance_add = Distance[i][j - 1] + 1\n",
    "            if str_1[i - 1] == str_2[j - 1]:\n",
    "                distance_change = Distance[i - 1][j - 1]\n",
    "            else:\n",
    "                distance_change = Distance[i - 1][j - 1] + 1\n",
    "            Distance[i][j] = min(distance_delete, distance_add, distance_change)\n",
    "    # Count the items from bottom to top\n",
    "    return Distance[m][n]"
   ]
  },
  {
   "cell_type": "code",
   "execution_count": 4,
   "metadata": {},
   "outputs": [],
   "source": [
    "##Jaccard Distance\n",
    "def jaccard_distance(str1, str2):\n",
    "    set1 = set(str1)\n",
    "    set2 = set(str2)\n",
    "    intersection = len(set1.intersection(set2))\n",
    "    union = len(set1.union(set2))\n",
    "    return 1 - intersection / union"
   ]
  },
  {
   "cell_type": "code",
   "execution_count": null,
   "metadata": {},
   "outputs": [
    {
     "name": "stdout",
     "output_type": "stream",
     "text": [
      "Currently calculated0.000000TCR3\n",
      "Currently calculated10.000000TCR3\n",
      "Currently calculated20.000000TCR3\n",
      "Currently calculated30.000000TCR3\n",
      "Currently calculated40.000000TCR3\n",
      "Currently calculated50.000000TCR3\n",
      "Currently calculated60.000000TCR3\n",
      "Currently calculated70.000000TCR3\n",
      "Currently calculated80.000000TCR3\n",
      "Currently calculated90.000000TCR3\n",
      "Currently calculated100.000000TCR3\n",
      "Currently calculated110.000000TCR3\n",
      "Currently calculated120.000000TCR3\n",
      "Currently calculated130.000000TCR3\n",
      "Currently calculated140.000000TCR3\n",
      "Currently calculated150.000000TCR3\n"
     ]
    }
   ],
   "source": [
    "Distance_Matrix_TRA = np.zeros((df_clean.shape[0], df_clean.shape[0]))\n",
    "Distance_Matrix_TRB = np.zeros((df_clean.shape[0], df_clean.shape[0]))\n",
    "Distance_Matrix_TRAandTRB = np.zeros((df_clean.shape[0], df_clean.shape[0]))\n",
    "for i in range(df_clean.shape[0]):\n",
    "    for j in range(df_clean.shape[0]):\n",
    "        Distance_Matrix_TRA[i][j] = jaccard_distance(df_clean['TRA'][i], df_clean['TRA'][j])\n",
    "        Distance_Matrix_TRB[i][j] = jaccard_distance(df_clean['TRB'][i], df_clean['TRB'][j])\n",
    "        Distance_Matrix_TRAandTRB[i][j] = jaccard_distance(df_clean['TRA_TRB_Combined'][i], df_clean['TRA_TRB_Combined'][j])\n",
    "    if i % 10 == 0:\n",
    "        print(\"Currently calculated{:2f}TCR3\".format(i))"
   ]
  },
  {
   "cell_type": "code",
   "execution_count": null,
   "metadata": {},
   "outputs": [],
   "source": []
  }
 ],
 "metadata": {
  "kernelspec": {
   "display_name": "PyTorch-1.8",
   "language": "python",
   "name": "pytorch-1.8"
  },
  "language_info": {
   "codemirror_mode": {
    "name": "ipython",
    "version": 3
   },
   "file_extension": ".py",
   "mimetype": "text/x-python",
   "name": "python",
   "nbconvert_exporter": "python",
   "pygments_lexer": "ipython3",
   "version": "3.7.10"
  }
 },
 "nbformat": 4,
 "nbformat_minor": 4
}
