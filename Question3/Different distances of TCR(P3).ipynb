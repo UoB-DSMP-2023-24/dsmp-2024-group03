{
  "metadata": {
    "kernelspec": {
      "name": "python",
      "display_name": "Python (Pyodide)",
      "language": "python"
    },
    "language_info": {
      "codemirror_mode": {
        "name": "python",
        "version": 3
      },
      "file_extension": ".py",
      "mimetype": "text/x-python",
      "name": "python",
      "nbconvert_exporter": "python",
      "pygments_lexer": "ipython3",
      "version": "3.8"
    }
  },
  "nbformat_minor": 4,
  "nbformat": 4,
  "cells": [
    {
      "cell_type": "code",
      "source": "import pandas as pd\nfrom matplotlib import colors\nfrom sklearn.multioutput import MultiOutputRegressor\nfrom sklearn.neighbors import KNeighborsRegressor\nimport matplotlib.pyplot as plt\nimport numpy as np\n\n# 定义文件路径\nfile_path = 'vdjdb.txt'  # 将 'your_file.txt' 替换为你的文件路径\n\n# 读取文件内容\nwith open(file_path, 'r', encoding='utf-8') as file:\n    # 读取文件的第一行，获取所有的信息变量名\n    header = file.readline().strip().split('\\t')\n    tcr_data = [dict(zip(header, line.strip().split('\\t'))) for line in file]\ncdr3_dict = {}\nfor row in tcr_data:\n    complex_id = row['complex.id']\n    cdr3 = row['cdr3']\n    # Splice together CDR3 with the same complex ID\n    if complex_id in cdr3_dict:\n        cdr3_dict[complex_id].append(cdr3)\n    else:\n        cdr3_dict[complex_id] = [cdr3]\n# There is a DataFrame containing the TCR sequence\nfor row in tcr_data:\n    complex_id = row['complex.id']\n    antigen_epitope = row['antigen.epitope']\n    vdjdb_score = row['vdjdb.score']\n    # Splice together CDR3 with the same complex ID\n    if len(cdr3_dict[complex_id]) == 2:\n        cdr3_dict[complex_id].append(antigen_epitope)\n        cdr3_dict[complex_id].append(vdjdb_score)\n    else:\n        continue\ncdr3_dict.pop('0')\n##Delete unpaired TCRs\ndf_cdr3 = pd.DataFrame(cdr3_dict)\ndf_cdr3_trans = df_cdr3.transpose()\nnames = ['TRA', 'TRB', 'antigen_epitope', 'vdjdb.score']\ndf_cdr3_trans.columns = names\nprint(df_cdr3_trans)\n##The first step is to read out the paired data",
      "metadata": {
        "trusted": true
      },
      "outputs": [],
      "execution_count": null
    },
    {
      "cell_type": "code",
      "source": "df_clean = df_cdr3_trans[df_cdr3_trans['vdjdb.score'] != '0']\ndf_clean['TRA_TRB_Combined'] = df_clean[\"TRA\"] + df_clean[\"TRB\"]\ndf_clean = df_clean.reset_index(drop=True)\nprint(\"当前数据集有{}个类别的数据\".format(np.shape(df_clean['antigen_epitope'].unique())))\nprint(df_clean)",
      "metadata": {
        "trusted": true
      },
      "outputs": [],
      "execution_count": null
    },
    {
      "cell_type": "code",
      "source": "##Edit Distance\ndef ED(str_1, str_2):\n    m = len(str_1)\n    n = len(str_2)\n    # Initializes the dynamic programming matrix with sizes m+1 and n+1 respectively\n    Distance = [[0 for _ in range(n + 1)] for _ in range(m + 1)]\n    for i in range(n + 1):\n        Distance[0][i] = i\n    #\n    for j in range(m + 1):\n        Distance[j][0] = j\n    # Initialize the first row and column of the matrix\n    for i in range(1, m + 1):\n        for j in range(1, n + 1):\n            distance_delete = Distance[i - 1][j] + 1\n            distance_add = Distance[i][j - 1] + 1\n            if str_1[i - 1] == str_2[j - 1]:\n                distance_change = Distance[i - 1][j - 1]\n            else:\n                distance_change = Distance[i - 1][j - 1] + 1\n            Distance[i][j] = min(distance_delete, distance_add, distance_change)\n    # Count the items from bottom to top\n    return Distance[m][n]",
      "metadata": {
        "trusted": true
      },
      "outputs": [],
      "execution_count": null
    },
    {
      "cell_type": "code",
      "source": "##Jaccard Distance\ndef jaccard_distance(str1, str2):\n    set1 = set(str1)\n    set2 = set(str2)\n    intersection = len(set1.intersection(set2))\n    union = len(set1.union(set2))\n    return 1 - intersection / union",
      "metadata": {
        "trusted": true
      },
      "outputs": [],
      "execution_count": null
    },
    {
      "cell_type": "code",
      "source": "Distance_Matrix_TRA = np.zeros((df_clean.shape[0], df_clean.shape[0]))\nDistance_Matrix_TRB = np.zeros((df_clean.shape[0], df_clean.shape[0]))\nDistance_Matrix_TRAandTRB = np.zeros((df_clean.shape[0], df_clean.shape[0]))\nfor i in range(df_clean.shape[0]):\n    for j in range(df_clean.shape[0]):\n        Distance_Matrix_TRA[i][j] = jaccard_distance(df_clean['TRA'][i], df_clean['TRA'][j])\n        Distance_Matrix_TRB[i][j] = jaccard_distance(df_clean['TRB'][i], df_clean['TRB'][j])\n        Distance_Matrix_TRAandTRB[i][j] = jaccard_distance(df_clean['TRA_TRB_Combined'][i], df_clean['TRA_TRB_Combined'][j])\n    if i % 10 == 0:\n        print(\"Currently calculated{:2f}TCR3\".format(i))",
      "metadata": {
        "trusted": true
      },
      "outputs": [],
      "execution_count": null
    }
  ]
}