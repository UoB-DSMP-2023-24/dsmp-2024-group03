{
 "cells": [
  {
   "cell_type": "code",
   "execution_count": 40,
   "id": "d172bb53-096e-445f-8833-c32ff49607a2",
   "metadata": {},
   "outputs": [
    {
     "name": "stdout",
     "output_type": "stream",
     "text": [
      "['complex.id', 'gene', 'cdr3', 'v.segm', 'j.segm', 'species', 'mhc.a', 'mhc.b', 'mhc.class', 'antigen.epitope', 'antigen.gene', 'antigen.species', 'reference.id', 'method', 'meta', 'cdr3fix', 'vdjdb.score', 'web.method', 'web.method.seq', 'web.cdr3fix.nc', 'web.cdr3fix.unmp']\n",
      "                  TRA                   TRB antigen_epitope vdjdb.score  \\\n",
      "1       CIVRAPGRADMRF  CASSYLPGQGDHYSNQPQHF        FLKEKGGL           2   \n",
      "2      CAVPSGAGSYQLTF   CASSFEPGQGFYSNQPQHF        FLKEKGGL           2   \n",
      "3         CAVKASGSRLT  CASSYEPGQVSHYSNQPQHF        FLKEKGGL           2   \n",
      "4       CAYRPPGTYKYIF        CASSALASLNEQFF        FLKEKGGL           2   \n",
      "5       CIVRAPGRADMRF  CASSYLPGQGDHYSNQPQHF        FLKEQGGL           2   \n",
      "...               ...                   ...             ...         ...   \n",
      "30590   CMDEGGSNYKLTF         CASSVRSTDTQYF    PQPELPYPQPQL           0   \n",
      "30591     CSLYNNNDMRF         CASSLRYTDTQYF    PQPELPYPQPQL           0   \n",
      "30592   CALSTDSWGKLQF       CASSPGQGGDNEQFF   PQQPFPQPEQPFP           0   \n",
      "30593    CAPQGATNKLIF       CASSLGAGGQETQYF   PQQPFPQPEQPFP           2   \n",
      "30594  CLVGGSGGYNKLIF         CASSSTAQETQYF   PQQPFPQPEQPFP           0   \n",
      "\n",
      "           species    mhc  \n",
      "1      HomoSapiens   MHCI  \n",
      "2      HomoSapiens   MHCI  \n",
      "3      HomoSapiens   MHCI  \n",
      "4      HomoSapiens   MHCI  \n",
      "5      HomoSapiens   MHCI  \n",
      "...            ...    ...  \n",
      "30590  HomoSapiens  MHCII  \n",
      "30591  HomoSapiens  MHCII  \n",
      "30592  HomoSapiens  MHCII  \n",
      "30593  HomoSapiens  MHCII  \n",
      "30594  HomoSapiens  MHCII  \n",
      "\n",
      "[30594 rows x 6 columns]\n"
     ]
    }
   ],
   "source": [
    "import pandas as pd\n",
    "from sklearn.multioutput import MultiOutputRegressor\n",
    "from sklearn.neighbors import KNeighborsRegressor\n",
    "\n",
    "import numpy as np\n",
    "\n",
    "# 定义文件路径\n",
    "file_path = 'vdjdb.txt'  # 将 'your_file.txt' 替换为你的文件路径\n",
    "\n",
    "# 读取文件内容\n",
    "with open(file_path, 'r', encoding='utf-8') as file:\n",
    "    # 读取文件的第一行，获取所有的信息变量名\n",
    "    header = file.readline().strip().split('\\t')\n",
    "    tcr_data = [dict(zip(header, line.strip().split('\\t'))) for line in file]\n",
    "print(header)\n",
    "cdr3_dict = {}\n",
    "for row in tcr_data:\n",
    "    complex_id = row['complex.id']\n",
    "    cdr3 = row['cdr3']\n",
    "    # 将相同 complex.id 的 cdr3 拼接起来\n",
    "    if complex_id in cdr3_dict:\n",
    "        cdr3_dict[complex_id].append(cdr3)\n",
    "    else:\n",
    "        cdr3_dict[complex_id] = [cdr3]\n",
    "# 假设有一个包含 TCR 序列的 DataFrame\n",
    "for row in tcr_data:\n",
    "    complex_id = row['complex.id']\n",
    "    antigen_epitope = row['antigen.epitope']\n",
    "    vdjdb_score = row['vdjdb.score']\n",
    "    species=row['species']\n",
    "    mhc=row['mhc.class']\n",
    "    # 将相同 complex.id 的 cdr3 拼接起来\n",
    "    if len(cdr3_dict[complex_id]) == 2:\n",
    "        cdr3_dict[complex_id].append(antigen_epitope)\n",
    "        cdr3_dict[complex_id].append(vdjdb_score)\n",
    "        cdr3_dict[complex_id].append(species)\n",
    "        cdr3_dict[complex_id].append(mhc)\n",
    "    else:\n",
    "        continue\n",
    "cdr3_dict.pop('0')\n",
    "##删除未配对的TCR\n",
    "df_cdr3 = pd.DataFrame(cdr3_dict)\n",
    "df_cdr3_trans = df_cdr3.transpose()\n",
    "names = ['TRA', 'TRB', 'antigen_epitope', 'vdjdb.score','species','mhc']\n",
    "df_cdr3_trans.columns = names\n",
    "print(df_cdr3_trans)"
   ]
  },
  {
   "cell_type": "code",
   "execution_count": 41,
   "id": "6a650a37-da1d-47dd-bffc-6db5e4de6ed0",
   "metadata": {},
   "outputs": [
    {
     "name": "stdout",
     "output_type": "stream",
     "text": [
      "                   TRA               TRB antigen_epitope vdjdb.score  \\\n",
      "0        CADSGGGADGLTF   CASSEEAGEYNEQFF        RAKFKQLL           0   \n",
      "1      CAGLNYGGSQGNLIF  CASSVRERAGANVLTF  TFEYVSQPFLMDLE           0   \n",
      "2       CAGNGGGSQGNLIF     CASSGRSTGELFF       GILGFVFTL           0   \n",
      "3         CAVVQGAQKLVF  CASSYLTGTGAYEQYF      ELAGIGILTV           0   \n",
      "4     CAFMKHENSGTYKYIF   CATSDSGRVNTEAFF      LLDFVRFMGV           0   \n",
      "...                ...               ...             ...         ...   \n",
      "2035    CAASAGGSQGNLIF    CASSQDLGEETQYF       KSKRTPMGF           0   \n",
      "2036    CAVGWGGATNKLIF   CAWSVGVGQLDGYTF       KLGGALQAK           0   \n",
      "2037  CALSDSGGTSYGKLTF       CASSGTGELFF       KLGGALQAK           0   \n",
      "2038     CADSGGGADGLTF    CASAPDGFFYGYTF        RAKFKQLL           0   \n",
      "2039   CAVRDRTGGYNKLIF  CASSLVPGTGEYEQYF       KLGGALQAK           0   \n",
      "\n",
      "          species    mhc  label  \n",
      "0     HomoSapiens   MHCI      0  \n",
      "1     HomoSapiens  MHCII      0  \n",
      "2     HomoSapiens   MHCI      0  \n",
      "3     HomoSapiens   MHCI      0  \n",
      "4     HomoSapiens   MHCI      0  \n",
      "...           ...    ...    ...  \n",
      "2035  HomoSapiens   MHCI      0  \n",
      "2036  HomoSapiens   MHCI      0  \n",
      "2037  HomoSapiens   MHCI      0  \n",
      "2038  HomoSapiens   MHCI      0  \n",
      "2039  HomoSapiens   MHCI      0  \n",
      "\n",
      "[2040 rows x 7 columns]\n",
      "                    TRA                   TRB antigen_epitope vdjdb.score  \\\n",
      "0         CIVRAPGRADMRF  CASSYLPGQGDHYSNQPQHF        FLKEKGGL           2   \n",
      "1        CAVPSGAGSYQLTF   CASSFEPGQGFYSNQPQHF        FLKEKGGL           2   \n",
      "2           CAVKASGSRLT  CASSYEPGQVSHYSNQPQHF        FLKEKGGL           2   \n",
      "3         CAYRPPGTYKYIF        CASSALASLNEQFF        FLKEKGGL           2   \n",
      "4         CIVRAPGRADMRF  CASSYLPGQGDHYSNQPQHF        FLKEQGGL           2   \n",
      "...                 ...                   ...             ...         ...   \n",
      "2035         CIALNARLMF         CASSLRATDTQYF    PQPELPYPQPQL           2   \n",
      "2036   CAMREGRYSSASKIIF       CATSRAGGGGEKLFF    FPQPEQPFPWQP           2   \n",
      "2037   CLVGDGDGGATNKLIF        CASSQGSGGNEQFF    FPQPEQPFPWQP           2   \n",
      "2038  CAASVLYGSSNTGKLIF      CASSIVGSGGYNEQFF    QLQPFPQPELPY           2   \n",
      "2039       CAPQGATNKLIF       CASSLGAGGQETQYF   PQQPFPQPEQPFP           2   \n",
      "\n",
      "          species    mhc  label  \n",
      "0     HomoSapiens   MHCI      1  \n",
      "1     HomoSapiens   MHCI      1  \n",
      "2     HomoSapiens   MHCI      1  \n",
      "3     HomoSapiens   MHCI      1  \n",
      "4     HomoSapiens   MHCI      1  \n",
      "...           ...    ...    ...  \n",
      "2035  HomoSapiens  MHCII      1  \n",
      "2036  HomoSapiens  MHCII      1  \n",
      "2037  HomoSapiens  MHCII      1  \n",
      "2038  HomoSapiens  MHCII      1  \n",
      "2039  HomoSapiens  MHCII      1  \n",
      "\n",
      "[2040 rows x 7 columns]\n"
     ]
    }
   ],
   "source": [
    "df_cdr3_trans=df_cdr3_trans[df_cdr3_trans['species'] == 'HomoSapiens']\n",
    "neg_data= df_cdr3_trans[df_cdr3_trans['vdjdb.score'] == '0']\n",
    "pos_data= df_cdr3_trans[df_cdr3_trans['vdjdb.score'] != '0']\n",
    "\n",
    "# 确定阳性样本数量\n",
    "num_positive_samples = len(pos_data)\n",
    "\n",
    "# 从阴性样本中随机抽取与阳性样本数量相同的样本\n",
    "neg_data_sampled = neg_data.sample(n=num_positive_samples, random_state=42)\n",
    "neg_data_sampled = neg_data_sampled.reset_index(drop=True)\n",
    "pos_data = pos_data.reset_index(drop=True)\n",
    "neg_data_sampled['label']=0\n",
    "pos_data['label']=1\n",
    "print(neg_data_sampled)\n",
    "print(pos_data)"
   ]
  },
  {
   "cell_type": "code",
   "execution_count": 42,
   "id": "97281008-da2d-41ee-a9a7-1ff88d4d2bd7",
   "metadata": {},
   "outputs": [],
   "source": [
    "balanced_dataset = pd.concat([neg_data_sampled, pos_data], axis=0)\n",
    "balanced_dataset = balanced_dataset.reset_index(drop=True)\n",
    "balanced_dataset['TRA_TRB_Combined'] = balanced_dataset[\"TRA\"] + balanced_dataset[\"TRB\"]\n",
    "\n",
    "##Splicing into a complete dataset"
   ]
  },
  {
   "cell_type": "code",
   "execution_count": 43,
   "id": "01db15d2-abaf-46e1-85e9-5aca1d7cb4f6",
   "metadata": {},
   "outputs": [],
   "source": [
    "cdr_sequences = balanced_dataset['TRA_TRB_Combined'].tolist()\n",
    "from sklearn.feature_extraction.text import CountVectorizer\n",
    "vectorizer = CountVectorizer(analyzer='char', lowercase=False)\n",
    "cdr_code = vectorizer.fit_transform(cdr_sequences)\n",
    "antigen_epitope_sequences=balanced_dataset['antigen_epitope'].tolist()\n",
    "antigen_epitope_code=vectorizer.fit_transform(antigen_epitope_sequences)\n",
    "# 将稀疏矩阵转换为列表\n",
    "cdr_code_list = cdr_code.toarray().tolist()\n",
    "antigen_epitope_code_list=antigen_epitope_code.toarray().tolist()\n",
    "# 将列表添加到 balanced_dataset 中\n",
    "balanced_dataset['cdr3_code'] = cdr_code_list\n",
    "balanced_dataset['antigen_code']=antigen_epitope_code_list"
   ]
  },
  {
   "cell_type": "code",
   "execution_count": 44,
   "id": "0b9a239d-9bf5-4dd6-b21a-90b7a2ee489c",
   "metadata": {},
   "outputs": [],
   "source": [
    "balanced_dataset['input'] = balanced_dataset.apply(lambda row: list(row['cdr3_code']) + list(row['antigen_code']), axis=1)\n",
    "##splice cdr3_code abd antigen_code"
   ]
  },
  {
   "cell_type": "code",
   "execution_count": 45,
   "id": "c905ad0a-0987-4575-8cfe-1caf1a588d77",
   "metadata": {},
   "outputs": [],
   "source": [
    "# 划分特征和目标变量\n",
    "from sklearn.metrics import accuracy_score\n",
    "from sklearn.model_selection import train_test_split\n",
    "X = np.array(balanced_dataset['input'].tolist())  # cdr3和待选抗原作为特征\n",
    "y = np.array(balanced_dataset['label'].tolist())  # label做为标签\n",
    "# 划分训练集和测试集\n",
    "X_train, X_test, y_train, y_test = train_test_split(X, y, test_size=0.2, random_state=42)"
   ]
  },
  {
   "cell_type": "code",
   "execution_count": 46,
   "id": "47a9b277-52b3-4a17-b6cf-41c182043f09",
   "metadata": {},
   "outputs": [
    {
     "name": "stdout",
     "output_type": "stream",
     "text": [
      "Recall: 0.9331619537275064\n",
      "Precision: 0.7773019271948608\n",
      "F1 Score: 0.8481308411214953\n",
      "Accuracy: 0.8406862745098039\n"
     ]
    }
   ],
   "source": [
    "##Logistic Regression Model\n",
    "# 使用逻辑回归模型进行分类\n",
    "from sklearn.linear_model import LogisticRegression\n",
    "\n",
    "# 初始化逻辑回归模型\n",
    "logistic_regression = LogisticRegression(max_iter=1000)\n",
    "\n",
    "# 训练模型\n",
    "logistic_regression.fit(X_train, y_train)\n",
    "\n",
    "# 预测测试集\n",
    "y_pred = logistic_regression.predict(X_test)\n",
    "\n",
    "# 评估模型性能\n",
    "from sklearn.metrics import accuracy_score\n",
    "from sklearn.metrics import recall_score, precision_score, f1_score\n",
    "recall = recall_score(y_test, y_pred)\n",
    "precision = precision_score(y_test, y_pred)\n",
    "f1 = f1_score(y_test, y_pred)\n",
    "accuracy = accuracy_score(y_test, y_pred)\n",
    "print(\"Recall:\", recall)\n",
    "print(\"Precision:\", precision)\n",
    "print(\"F1 Score:\", f1)\n",
    "print(\"Accuracy:\", accuracy)"
   ]
  },
  {
   "cell_type": "code",
   "execution_count": 47,
   "id": "770a234c-cf2a-4c2e-a027-297af48b7f6b",
   "metadata": {},
   "outputs": [
    {
     "name": "stdout",
     "output_type": "stream",
     "text": [
      "Recall: 0.8766066838046273\n",
      "Precision: 0.8567839195979899\n",
      "F1 Score: 0.8665819567979669\n",
      "Accuracy: 0.8713235294117647\n"
     ]
    }
   ],
   "source": [
    "#DecisionTreeClassifier\n",
    "from sklearn.tree import DecisionTreeClassifier\n",
    "# 初始化决策树模型\n",
    "decision_tree = DecisionTreeClassifier()\n",
    "\n",
    "# 在训练集上拟合模型\n",
    "decision_tree.fit(X_train, y_train)\n",
    "\n",
    "# 在测试集上进行预测\n",
    "y_pred = decision_tree.predict(X_test)\n",
    "\n",
    "# 计算准确率\n",
    "from sklearn.metrics import accuracy_score\n",
    "from sklearn.metrics import recall_score, precision_score, f1_score\n",
    "recall = recall_score(y_test, y_pred)\n",
    "precision = precision_score(y_test, y_pred)\n",
    "f1 = f1_score(y_test, y_pred)\n",
    "accuracy = accuracy_score(y_test, y_pred)\n",
    "print(\"Recall:\", recall)\n",
    "print(\"Precision:\", precision)\n",
    "print(\"F1 Score:\", f1)\n",
    "print(\"Accuracy:\", accuracy)"
   ]
  },
  {
   "cell_type": "code",
   "execution_count": 48,
   "id": "6b938727-3551-4e91-8685-d2541b7a31d3",
   "metadata": {},
   "outputs": [
    {
     "name": "stdout",
     "output_type": "stream",
     "text": [
      "Recall: 0.9485861182519281\n",
      "Precision: 0.821826280623608\n",
      "F1 Score: 0.8806682577565632\n",
      "Accuracy: 0.8774509803921569\n"
     ]
    }
   ],
   "source": [
    "from sklearn.ensemble import RandomForestClassifier\n",
    "# RandomForestClassfier\n",
    "random_forest_model = RandomForestClassifier(n_estimators=150,max_depth=None, max_features='log2', min_samples_leaf=1, min_samples_split=2)\n",
    "random_forest_model.fit(X_train, y_train)\n",
    "\n",
    "# predict test\n",
    "y_pred = random_forest_model.predict(X_test)\n",
    "# accuracy\n",
    "from sklearn.metrics import accuracy_score\n",
    "\n",
    "from sklearn.metrics import recall_score, precision_score, f1_score\n",
    "recall = recall_score(y_test, y_pred)\n",
    "precision = precision_score(y_test, y_pred)\n",
    "f1 = f1_score(y_test, y_pred)\n",
    "accuracy = accuracy_score(y_test, y_pred)\n",
    "print(\"Recall:\", recall)\n",
    "print(\"Precision:\", precision)\n",
    "print(\"F1 Score:\", f1)\n",
    "print(\"Accuracy:\", accuracy)"
   ]
  },
  {
   "cell_type": "code",
   "execution_count": 49,
   "id": "3499f1a5-dfe7-4e92-a43b-3395f3fb1c4a",
   "metadata": {},
   "outputs": [
    {
     "name": "stdout",
     "output_type": "stream",
     "text": [
      "Recall: 0.7712082262210797\n",
      "Precision: 0.7537688442211056\n",
      "F1 Score: 0.7623888182973316\n",
      "Accuracy: 0.7708333333333334\n"
     ]
    }
   ],
   "source": [
    "##Naive_bayes Model\n",
    "from sklearn.naive_bayes import GaussianNB\n",
    "# 初始化朴素贝叶斯模型\n",
    "naive_bayes = GaussianNB()\n",
    "\n",
    "# 在训练集上拟合模型\n",
    "naive_bayes.fit(X_train, y_train)\n",
    "\n",
    "# 在测试集上进行预测\n",
    "y_pred = naive_bayes.predict(X_test)\n",
    "\n",
    "# 计算准确率\n",
    "from sklearn.metrics import accuracy_score\n",
    "from sklearn.metrics import recall_score, precision_score, f1_score\n",
    "recall = recall_score(y_test, y_pred)\n",
    "precision = precision_score(y_test, y_pred)\n",
    "f1 = f1_score(y_test, y_pred)\n",
    "accuracy = accuracy_score(y_test, y_pred)\n",
    "print(\"Recall:\", recall)\n",
    "print(\"Precision:\", precision)\n",
    "print(\"F1 Score:\", f1)\n",
    "print(\"Accuracy:\", accuracy)"
   ]
  },
  {
   "cell_type": "code",
   "execution_count": 50,
   "id": "2f680905-0d6f-4cab-bbac-30ddfdbcae3c",
   "metadata": {},
   "outputs": [
    {
     "name": "stdout",
     "output_type": "stream",
     "text": [
      "Recall: 0.8688946015424165\n",
      "Precision: 0.8047619047619048\n",
      "F1 Score: 0.8355995055624227\n",
      "Accuracy: 0.8370098039215687\n"
     ]
    }
   ],
   "source": [
    "\n",
    "#KNN Model\n",
    "from sklearn.neighbors import KNeighborsClassifier\n",
    "from sklearn.metrics import accuracy_score\n",
    "\n",
    "# 初始化KNN模型\n",
    "knn_model = KNeighborsClassifier(n_neighbors=3)\n",
    "\n",
    "# 训练模型\n",
    "knn_model.fit(X_train, y_train)\n",
    "\n",
    "# 预测\n",
    "y_pred = knn_model.predict(X_test)\n",
    "\n",
    "# 计算准确率\n",
    "from sklearn.metrics import accuracy_score\n",
    "from sklearn.metrics import recall_score, precision_score, f1_score\n",
    "recall = recall_score(y_test, y_pred)\n",
    "precision = precision_score(y_test, y_pred)\n",
    "f1 = f1_score(y_test, y_pred)\n",
    "accuracy = accuracy_score(y_test, y_pred)\n",
    "print(\"Recall:\", recall)\n",
    "print(\"Precision:\", precision)\n",
    "print(\"F1 Score:\", f1)\n",
    "print(\"Accuracy:\", accuracy)"
   ]
  },
  {
   "cell_type": "code",
   "execution_count": null,
   "id": "52bfba0d-aade-413d-a7d8-d5b16055f807",
   "metadata": {},
   "outputs": [],
   "source": []
  }
 ],
 "metadata": {
  "kernelspec": {
   "display_name": "PyTorch-1.8",
   "language": "python",
   "name": "pytorch-1.8"
  },
  "language_info": {
   "codemirror_mode": {
    "name": "ipython",
    "version": 3
   },
   "file_extension": ".py",
   "mimetype": "text/x-python",
   "name": "python",
   "nbconvert_exporter": "python",
   "pygments_lexer": "ipython3",
   "version": "3.7.10"
  }
 },
 "nbformat": 4,
 "nbformat_minor": 5
}
