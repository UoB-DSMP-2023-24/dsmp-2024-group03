{
 "cells": [
  {
   "cell_type": "code",
   "execution_count": 1,
   "id": "ceeb9134-dd7f-49cc-900e-3343421b3219",
   "metadata": {},
   "outputs": [
    {
     "name": "stdout",
     "output_type": "stream",
     "text": [
      "                  TRA                   TRB antigen_epitope vdjdb.score\n",
      "1       CIVRAPGRADMRF  CASSYLPGQGDHYSNQPQHF        FLKEKGGL           2\n",
      "2      CAVPSGAGSYQLTF   CASSFEPGQGFYSNQPQHF        FLKEKGGL           2\n",
      "3         CAVKASGSRLT  CASSYEPGQVSHYSNQPQHF        FLKEKGGL           2\n",
      "4       CAYRPPGTYKYIF        CASSALASLNEQFF        FLKEKGGL           2\n",
      "5       CIVRAPGRADMRF  CASSYLPGQGDHYSNQPQHF        FLKEQGGL           2\n",
      "...               ...                   ...             ...         ...\n",
      "30590   CMDEGGSNYKLTF         CASSVRSTDTQYF    PQPELPYPQPQL           0\n",
      "30591     CSLYNNNDMRF         CASSLRYTDTQYF    PQPELPYPQPQL           0\n",
      "30592   CALSTDSWGKLQF       CASSPGQGGDNEQFF   PQQPFPQPEQPFP           0\n",
      "30593    CAPQGATNKLIF       CASSLGAGGQETQYF   PQQPFPQPEQPFP           2\n",
      "30594  CLVGGSGGYNKLIF         CASSSTAQETQYF   PQQPFPQPEQPFP           0\n",
      "\n",
      "[30594 rows x 4 columns]\n"
     ]
    }
   ],
   "source": [
    "import pandas as pd\n",
    "from matplotlib import colors\n",
    "from sklearn.multioutput import MultiOutputRegressor\n",
    "from sklearn.neighbors import KNeighborsRegressor\n",
    "import matplotlib.pyplot as plt\n",
    "import numpy as np\n",
    "\n",
    "# 定义文件路径\n",
    "file_path = 'vdjdb.txt'  # 将 'your_file.txt' 替换为你的文件路径\n",
    "\n",
    "# 读取文件内容\n",
    "with open(file_path, 'r', encoding='utf-8') as file:\n",
    "    # 读取文件的第一行，获取所有的信息变量名\n",
    "    header = file.readline().strip().split('\\t')\n",
    "    tcr_data = [dict(zip(header, line.strip().split('\\t'))) for line in file]\n",
    "cdr3_dict = {}\n",
    "for row in tcr_data:\n",
    "    complex_id = row['complex.id']\n",
    "    cdr3 = row['cdr3']\n",
    "    # Splice together CDR3 with the same complex ID\n",
    "    if complex_id in cdr3_dict:\n",
    "        cdr3_dict[complex_id].append(cdr3)\n",
    "    else:\n",
    "        cdr3_dict[complex_id] = [cdr3]\n",
    "# There is a DataFrame containing the TCR sequence\n",
    "for row in tcr_data:\n",
    "    complex_id = row['complex.id']\n",
    "    antigen_epitope = row['antigen.epitope']\n",
    "    vdjdb_score = row['vdjdb.score']\n",
    "    # Splice together CDR3 with the same complex ID\n",
    "    if len(cdr3_dict[complex_id]) == 2:\n",
    "        cdr3_dict[complex_id].append(antigen_epitope)\n",
    "        cdr3_dict[complex_id].append(vdjdb_score)\n",
    "    else:\n",
    "        continue\n",
    "cdr3_dict.pop('0')\n",
    "##Delete unpaired TCRs\n",
    "df_cdr3 = pd.DataFrame(cdr3_dict)\n",
    "df_cdr3_trans = df_cdr3.transpose()\n",
    "names = ['TRA', 'TRB', 'antigen_epitope', 'vdjdb.score']\n",
    "df_cdr3_trans.columns = names\n",
    "print(df_cdr3_trans)\n",
    "##The first step is to read out the paired data"
   ]
  },
  {
   "cell_type": "code",
   "execution_count": 2,
   "id": "4a4d007e-6b69-46e9-8754-f0acca1ede18",
   "metadata": {},
   "outputs": [],
   "source": [
    "neg_data= df_cdr3_trans[df_cdr3_trans['vdjdb.score'] == '0']\n",
    "pos_data_1= df_cdr3_trans[df_cdr3_trans['vdjdb.score'] == '1']\n",
    "pos_data_2= df_cdr3_trans[df_cdr3_trans['vdjdb.score'] == '2']\n",
    "pos_data_3= df_cdr3_trans[df_cdr3_trans['vdjdb.score'] == '3']\n",
    "# Copy the data of pos_data_2 twice\n",
    "pos_data_2_copy = pos_data_2.copy()\n",
    "pos_data_2_copy = pd.concat([pos_data_2_copy] * 2, ignore_index=True)\n",
    "\n",
    "# Copy the data of pos_data_3 three times\n",
    "pos_data_3_copy = pos_data_3.copy()\n",
    "pos_data_3_copy = pd.concat([pos_data_3_copy] * 3, ignore_index=True)\n",
    "\n",
    "# Splice the copied data with pos_data_1\n",
    "pos_data = pd.concat([pos_data_1, pos_data_2_copy, pos_data_3_copy], ignore_index=True)\n",
    "# Determine the number of positive samples\n",
    "num_positive_samples = len(pos_data)\n",
    "\n",
    "# Randomly select samples from negative samples with the same number as positive samples\n",
    "neg_data_sampled = neg_data.sample(n=num_positive_samples, random_state=42)\n",
    "neg_data_sampled = neg_data_sampled.reset_index(drop=True)\n",
    "pos_data = pos_data.reset_index(drop=True)\n",
    "neg_data_sampled['label']=0\n",
    "pos_data['label']=1"
   ]
  },
  {
   "cell_type": "code",
   "execution_count": 3,
   "id": "5c78b191-be70-4743-a1c4-0ae378c9b107",
   "metadata": {},
   "outputs": [],
   "source": [
    "balanced_dataset = pd.concat([neg_data_sampled, pos_data], axis=0)\n",
    "balanced_dataset = balanced_dataset.reset_index(drop=True)\n",
    "balanced_dataset['TRA_TRB_Combined'] = balanced_dataset[\"TRA\"] + balanced_dataset[\"TRB\"]\n",
    "##Splicing into a complete dataset"
   ]
  },
  {
   "cell_type": "code",
   "execution_count": 4,
   "id": "be138929-0d0e-4ecb-b7de-082ff08be5dd",
   "metadata": {},
   "outputs": [
    {
     "name": "stdout",
     "output_type": "stream",
     "text": [
      "Longest cdr3: CAASRANAGGTSYGKLTFCASSQDKVSWTGVSGGMNTEAFF\n",
      "Longest cdr3's length: 41\n",
      "Longest antigen_epitope: MTEYKLVVVGAVGVGKSALTIQLI\n",
      "Longest antigen_epitope's length: 24\n"
     ]
    }
   ],
   "source": [
    "##----------------encoding stage-------------------------------\n",
    "encoding_map = {'A': [1, 0, 0, 0, 0, 0, 0, 0, 0, 0, 0, 0, 0, 0, 0, 0, 0, 0, 0, 0],\n",
    "                'C': [0, 1, 0, 0, 0, 0, 0, 0, 0, 0, 0, 0, 0, 0, 0, 0, 0, 0, 0, 0],\n",
    "                'D': [0, 0, 1, 0, 0, 0, 0, 0, 0, 0, 0, 0, 0, 0, 0, 0, 0, 0, 0, 0],\n",
    "                'E': [0, 0, 0, 1, 0, 0, 0, 0, 0, 0, 0, 0, 0, 0, 0, 0, 0, 0, 0, 0],\n",
    "                'F': [0, 0, 0, 0, 1, 0, 0, 0, 0, 0, 0, 0, 0, 0, 0, 0, 0, 0, 0, 0],\n",
    "                'G': [0, 0, 0, 0, 0, 1, 0, 0, 0, 0, 0, 0, 0, 0, 0, 0, 0, 0, 0, 0],\n",
    "                'H': [0, 0, 0, 0, 0, 0, 1, 0, 0, 0, 0, 0, 0, 0, 0, 0, 0, 0, 0, 0],\n",
    "                'I': [0, 0, 0, 0, 0, 0, 0, 1, 0, 0, 0, 0, 0, 0, 0, 0, 0, 0, 0, 0],\n",
    "                'K': [0, 0, 0, 0, 0, 0, 0, 0, 1, 0, 0, 0, 0, 0, 0, 0, 0, 0, 0, 0],\n",
    "                'L': [0, 0, 0, 0, 0, 0, 0, 0, 0, 1, 0, 0, 0, 0, 0, 0, 0, 0, 0, 0],\n",
    "                'M': [0, 0, 0, 0, 0, 0, 0, 0, 0, 0, 1, 0, 0, 0, 0, 0, 0, 0, 0, 0],\n",
    "                'N': [0, 0, 0, 0, 0, 0, 0, 0, 0, 0, 0, 1, 0, 0, 0, 0, 0, 0, 0, 0],\n",
    "                'P': [0, 0, 0, 0, 0, 0, 0, 0, 0, 0, 0, 0, 1, 0, 0, 0, 0, 0, 0, 0],\n",
    "                'Q': [0, 0, 0, 0, 0, 0, 0, 0, 0, 0, 0, 0, 0, 1, 0, 0, 0, 0, 0, 0],\n",
    "                'R': [0, 0, 0, 0, 0, 0, 0, 0, 0, 0, 0, 0, 0, 0, 1, 0, 0, 0, 0, 0],\n",
    "                'S': [0, 0, 0, 0, 0, 0, 0, 0, 0, 0, 0, 0, 0, 0, 0, 1, 0, 0, 0, 0],\n",
    "                'T': [0, 0, 0, 0, 0, 0, 0, 0, 0, 0, 0, 0, 0, 0, 0, 0, 1, 0, 0, 0],\n",
    "                'V': [0, 0, 0, 0, 0, 0, 0, 0, 0, 0, 0, 0, 0, 0, 0, 0, 0, 1, 0, 0],\n",
    "                'W': [0, 0, 0, 0, 0, 0, 0, 0, 0, 0, 0, 0, 0, 0, 0, 0, 0, 0, 1, 0],\n",
    "                'Y': [0, 0, 0, 0, 0, 0, 0, 0, 0, 0, 0, 0, 0, 0, 0, 0, 0, 0, 0, 1]}\n",
    "cdr3_encoded = [[encoding_map[char] for char in sequence] for sequence in balanced_dataset['TRA_TRB_Combined']]\n",
    "antigen_encoded = [[encoding_map[char] for char in sequence] for sequence in balanced_dataset['antigen_epitope']]\n",
    "##one-hot representation encoding stage completed\n",
    "##next step is padding all input into one size.\n",
    "longest_cdr3 = max(balanced_dataset['TRA_TRB_Combined'], key=len)\n",
    "print(\"Longest cdr3:\", longest_cdr3)\n",
    "print(\"Longest cdr3's length:\", len(longest_cdr3))\n",
    "longest_antigen_epitope = max(balanced_dataset['antigen_epitope'], key=len)\n",
    "print(\"Longest antigen_epitope:\", longest_antigen_epitope)\n",
    "print(\"Longest antigen_epitope's length:\", len(longest_antigen_epitope))\n",
    "\n",
    "\n",
    "def padding_sequence(origin, sequence_length):\n",
    "    padded = np.zeros((sequence_length, 20))\n",
    "    padded[:len(origin)] = origin\n",
    "    return padded\n",
    "\n",
    "\n",
    "cdr3_encoded_padded = [padding_sequence(seq, len(longest_cdr3)) for seq in cdr3_encoded]\n",
    "antigen_encoded_padded = [padding_sequence(seq, len(longest_antigen_epitope)) for seq in antigen_encoded]\n",
    "cdr3_encoded_padded_flat = [seq.flatten() for seq in cdr3_encoded_padded]\n",
    "antigen_encoded_padded_flat = [seq.flatten() for seq in antigen_encoded_padded]\n",
    "balanced_dataset['cdr3_code'] = cdr3_encoded_padded_flat\n",
    "balanced_dataset['antigen_code'] = antigen_encoded_padded_flat"
   ]
  },
  {
   "cell_type": "code",
   "execution_count": 5,
   "id": "4851e878-7b55-4db7-bfb4-ee5cdaa19e2f",
   "metadata": {},
   "outputs": [],
   "source": [
    "balanced_dataset['input'] = balanced_dataset.apply(lambda row: list(row['cdr3_code']) + list(row['antigen_code']), axis=1)\n",
    "##splice cdr3_code abd antigen_code"
   ]
  },
  {
   "cell_type": "code",
   "execution_count": 51,
   "id": "ac980494-3011-4bd0-9aaf-3c75f50ba3d7",
   "metadata": {},
   "outputs": [
    {
     "name": "stdout",
     "output_type": "stream",
     "text": [
      "Recall: 0.9587020648967551\n",
      "Precision: 0.8895985401459854\n",
      "F1 Score: 0.922858495030762\n",
      "Accuracy: 0.919585594474593\n"
     ]
    }
   ],
   "source": [
    "\n",
    "from sklearn.metrics import accuracy_score\n",
    "from sklearn.model_selection import train_test_split\n",
    "X = np.array(balanced_dataset['input'].tolist())  \n",
    "y = np.array(balanced_dataset['label'].tolist())  \n",
    "# Split X and y\n",
    "X_train, X_test, y_train, y_test = train_test_split(X, y, test_size=0.2, random_state=66,shuffle=True)\n",
    "from sklearn.ensemble import RandomForestClassifier\n",
    "# RandomForestClassfier\n",
    "random_forest_model = RandomForestClassifier(n_estimators=150,max_depth=None, max_features='log2', min_samples_leaf=1, min_samples_split=2)\n",
    "random_forest_model.fit(X_train, y_train)\n",
    "\n",
    "# predict test\n",
    "y_pred = random_forest_model.predict(X_test)\n",
    "# accuracy\n",
    "from sklearn.metrics import accuracy_score\n",
    "\n",
    "from sklearn.metrics import recall_score, precision_score, f1_score\n",
    "recall = recall_score(y_test, y_pred)\n",
    "precision = precision_score(y_test, y_pred)\n",
    "f1 = f1_score(y_test, y_pred)\n",
    "accuracy = accuracy_score(y_test, y_pred)\n",
    "print(\"Recall:\", recall)\n",
    "print(\"Precision:\", precision)\n",
    "print(\"F1 Score:\", f1)\n",
    "print(\"Accuracy:\", accuracy)"
   ]
  },
  {
   "cell_type": "code",
   "execution_count": null,
   "id": "5ff1fb66-fddf-4c3b-82d4-e4af160b1db4",
   "metadata": {},
   "outputs": [],
   "source": []
  },
  {
   "cell_type": "code",
   "execution_count": null,
   "id": "7af78dce-ec6c-4d00-bb4b-2f0c5d46812d",
   "metadata": {},
   "outputs": [],
   "source": []
  }
 ],
 "metadata": {
  "kernelspec": {
   "display_name": "PyTorch-1.8",
   "language": "python",
   "name": "pytorch-1.8"
  },
  "language_info": {
   "codemirror_mode": {
    "name": "ipython",
    "version": 3
   },
   "file_extension": ".py",
   "mimetype": "text/x-python",
   "name": "python",
   "nbconvert_exporter": "python",
   "pygments_lexer": "ipython3",
   "version": "3.7.10"
  }
 },
 "nbformat": 4,
 "nbformat_minor": 5
}
