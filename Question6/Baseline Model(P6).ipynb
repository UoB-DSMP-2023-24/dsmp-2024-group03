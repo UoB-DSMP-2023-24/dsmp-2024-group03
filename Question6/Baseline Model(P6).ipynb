{
 "cells": [
  {
   "cell_type": "code",
   "execution_count": 2,
   "id": "5e102634-d911-4044-922e-8e0c249e51d7",
   "metadata": {},
   "outputs": [
    {
     "name": "stdout",
     "output_type": "stream",
     "text": [
      "                  TRA                   TRB antigen_epitope vdjdb.score\n",
      "1       CIVRAPGRADMRF  CASSYLPGQGDHYSNQPQHF        FLKEKGGL           2\n",
      "2      CAVPSGAGSYQLTF   CASSFEPGQGFYSNQPQHF        FLKEKGGL           2\n",
      "3         CAVKASGSRLT  CASSYEPGQVSHYSNQPQHF        FLKEKGGL           2\n",
      "4       CAYRPPGTYKYIF        CASSALASLNEQFF        FLKEKGGL           2\n",
      "5       CIVRAPGRADMRF  CASSYLPGQGDHYSNQPQHF        FLKEQGGL           2\n",
      "...               ...                   ...             ...         ...\n",
      "30590   CMDEGGSNYKLTF         CASSVRSTDTQYF    PQPELPYPQPQL           0\n",
      "30591     CSLYNNNDMRF         CASSLRYTDTQYF    PQPELPYPQPQL           0\n",
      "30592   CALSTDSWGKLQF       CASSPGQGGDNEQFF   PQQPFPQPEQPFP           0\n",
      "30593    CAPQGATNKLIF       CASSLGAGGQETQYF   PQQPFPQPEQPFP           2\n",
      "30594  CLVGGSGGYNKLIF         CASSSTAQETQYF   PQQPFPQPEQPFP           0\n",
      "\n",
      "[30594 rows x 4 columns]\n"
     ]
    }
   ],
   "source": [
    "import pandas as pd\n",
    "from matplotlib import colors\n",
    "from sklearn.multioutput import MultiOutputRegressor\n",
    "from sklearn.neighbors import KNeighborsRegressor\n",
    "import matplotlib.pyplot as plt\n",
    "import numpy as np\n",
    "\n",
    "# 定义文件路径\n",
    "file_path = 'vdjdb.txt'  # 将 'your_file.txt' 替换为你的文件路径\n",
    "\n",
    "# 读取文件内容\n",
    "with open(file_path, 'r', encoding='utf-8') as file:\n",
    "    # 读取文件的第一行，获取所有的信息变量名\n",
    "    header = file.readline().strip().split('\\t')\n",
    "    tcr_data = [dict(zip(header, line.strip().split('\\t'))) for line in file]\n",
    "cdr3_dict = {}\n",
    "for row in tcr_data:\n",
    "    complex_id = row['complex.id']\n",
    "    cdr3 = row['cdr3']\n",
    "    # Splice together CDR3 with the same complex ID\n",
    "    if complex_id in cdr3_dict:\n",
    "        cdr3_dict[complex_id].append(cdr3)\n",
    "    else:\n",
    "        cdr3_dict[complex_id] = [cdr3]\n",
    "# There is a DataFrame containing the TCR sequence\n",
    "for row in tcr_data:\n",
    "    complex_id = row['complex.id']\n",
    "    antigen_epitope = row['antigen.epitope']\n",
    "    vdjdb_score = row['vdjdb.score']\n",
    "    # Splice together CDR3 with the same complex ID\n",
    "    if len(cdr3_dict[complex_id]) == 2:\n",
    "        cdr3_dict[complex_id].append(antigen_epitope)\n",
    "        cdr3_dict[complex_id].append(vdjdb_score)\n",
    "    else:\n",
    "        continue\n",
    "cdr3_dict.pop('0')\n",
    "##Delete unpaired TCRs\n",
    "df_cdr3 = pd.DataFrame(cdr3_dict)\n",
    "df_cdr3_trans = df_cdr3.transpose()\n",
    "names = ['TRA', 'TRB', 'antigen_epitope', 'vdjdb.score']\n",
    "df_cdr3_trans.columns = names\n",
    "print(df_cdr3_trans)\n",
    "##The first step is to read out the paired data"
   ]
  },
  {
   "cell_type": "code",
   "execution_count": 4,
   "id": "119fe99b-4449-4b94-bf57-739c401aad34",
   "metadata": {},
   "outputs": [
    {
     "name": "stdout",
     "output_type": "stream",
     "text": [
      "                   TRA                TRB antigen_epitope vdjdb.score  label\n",
      "0       CVVNGGNAGNMLTF     CASSQLTGVYEQYF       KLGGALQAK           0      0\n",
      "1           CAGPSAKLTF      CASSPTGTGELFF       KLGGALQAK           0      0\n",
      "2            CARPHALNF   CASSLWAGGEYTEAFF       KLGGALQAK           0      0\n",
      "3     CALSEPPVENDYKLSF         CASSRWTIYF       KLGGALQAK           0      0\n",
      "4       CAVNAGNAGNMLTF   CASSSSLQGTGNTIYF       KLGGALQAK           0      0\n",
      "...                ...                ...             ...         ...    ...\n",
      "2960  CAFLVYISSNTGKLIF  CSVEDELDHGFADTQYF       KLGGALQAK           0      0\n",
      "2961    CVALQRYNFNKFYF   CSARASGGHKQYEQYF       KTFPPTEPK           0      0\n",
      "2962     CAANSGGYQKVTF      CATGQSNTGELFF      TTDPSFLGRY           0      0\n",
      "2963      CAMSPRDDKIIF    CASSSQGGGTGELFF        HPVTKYIM           0      0\n",
      "2964     CIVREGSQGNLIF      CASSETGGWGYTF       KLGGALQAK           0      0\n",
      "\n",
      "[2965 rows x 5 columns]\n",
      "                    TRA                   TRB antigen_epitope vdjdb.score  \\\n",
      "0         CIVRAPGRADMRF  CASSYLPGQGDHYSNQPQHF        FLKEKGGL           2   \n",
      "1        CAVPSGAGSYQLTF   CASSFEPGQGFYSNQPQHF        FLKEKGGL           2   \n",
      "2           CAVKASGSRLT  CASSYEPGQVSHYSNQPQHF        FLKEKGGL           2   \n",
      "3         CAYRPPGTYKYIF        CASSALASLNEQFF        FLKEKGGL           2   \n",
      "4         CIVRAPGRADMRF  CASSYLPGQGDHYSNQPQHF        FLKEQGGL           2   \n",
      "...                 ...                   ...             ...         ...   \n",
      "2960         CIALNARLMF         CASSLRATDTQYF    PQPELPYPQPQL           2   \n",
      "2961   CAMREGRYSSASKIIF       CATSRAGGGGEKLFF    FPQPEQPFPWQP           2   \n",
      "2962   CLVGDGDGGATNKLIF        CASSQGSGGNEQFF    FPQPEQPFPWQP           2   \n",
      "2963  CAASVLYGSSNTGKLIF      CASSIVGSGGYNEQFF    QLQPFPQPELPY           2   \n",
      "2964       CAPQGATNKLIF       CASSLGAGGQETQYF   PQQPFPQPEQPFP           2   \n",
      "\n",
      "      label  \n",
      "0         1  \n",
      "1         1  \n",
      "2         1  \n",
      "3         1  \n",
      "4         1  \n",
      "...     ...  \n",
      "2960      1  \n",
      "2961      1  \n",
      "2962      1  \n",
      "2963      1  \n",
      "2964      1  \n",
      "\n",
      "[2965 rows x 5 columns]\n"
     ]
    }
   ],
   "source": [
    "neg_data= df_cdr3_trans[df_cdr3_trans['vdjdb.score'] == '0']\n",
    "pos_data= df_cdr3_trans[df_cdr3_trans['vdjdb.score'] != '0']\n",
    "\n",
    "# 确定阳性样本数量\n",
    "num_positive_samples = len(pos_data)\n",
    "\n",
    "# 从阴性样本中随机抽取与阳性样本数量相同的样本\n",
    "neg_data_sampled = neg_data.sample(n=num_positive_samples, random_state=42)\n",
    "neg_data_sampled = neg_data_sampled.reset_index(drop=True)\n",
    "pos_data = pos_data.reset_index(drop=True)\n",
    "neg_data_sampled['label']=0\n",
    "pos_data['label']=1\n",
    "print(neg_data_sampled)\n",
    "print(pos_data)"
   ]
  },
  {
   "cell_type": "code",
   "execution_count": 6,
   "id": "f156725d-c98e-4962-bed4-fe6a3419005d",
   "metadata": {},
   "outputs": [],
   "source": [
    "balanced_dataset = pd.concat([neg_data_sampled, pos_data], axis=0)\n",
    "balanced_dataset = balanced_dataset.reset_index(drop=True)\n",
    "balanced_dataset['TRA_TRB_Combined'] = balanced_dataset[\"TRA\"] + balanced_dataset[\"TRB\"]\n",
    "##Splicing into a complete dataset"
   ]
  },
  {
   "cell_type": "code",
   "execution_count": 7,
   "id": "4384e324-64be-4ed1-b3ae-90a078de5ed6",
   "metadata": {},
   "outputs": [
    {
     "name": "stdout",
     "output_type": "stream",
     "text": [
      "Longest cdr3: CAASRANAGGTSYGKLTFCASSQDKVSWTGVSGGMNTEAFF\n",
      "Longest cdr3's length: 41\n",
      "Longest antigen_epitope: MTEYKLVVVGAVGVGKSALTIQLI\n",
      "Longest antigen_epitope's length: 24\n"
     ]
    }
   ],
   "source": [
    "##----------------encoding stage-------------------------------\n",
    "encoding_map = {'A': [1, 0, 0, 0, 0, 0, 0, 0, 0, 0, 0, 0, 0, 0, 0, 0, 0, 0, 0, 0],\n",
    "                'C': [0, 1, 0, 0, 0, 0, 0, 0, 0, 0, 0, 0, 0, 0, 0, 0, 0, 0, 0, 0],\n",
    "                'D': [0, 0, 1, 0, 0, 0, 0, 0, 0, 0, 0, 0, 0, 0, 0, 0, 0, 0, 0, 0],\n",
    "                'E': [0, 0, 0, 1, 0, 0, 0, 0, 0, 0, 0, 0, 0, 0, 0, 0, 0, 0, 0, 0],\n",
    "                'F': [0, 0, 0, 0, 1, 0, 0, 0, 0, 0, 0, 0, 0, 0, 0, 0, 0, 0, 0, 0],\n",
    "                'G': [0, 0, 0, 0, 0, 1, 0, 0, 0, 0, 0, 0, 0, 0, 0, 0, 0, 0, 0, 0],\n",
    "                'H': [0, 0, 0, 0, 0, 0, 1, 0, 0, 0, 0, 0, 0, 0, 0, 0, 0, 0, 0, 0],\n",
    "                'I': [0, 0, 0, 0, 0, 0, 0, 1, 0, 0, 0, 0, 0, 0, 0, 0, 0, 0, 0, 0],\n",
    "                'K': [0, 0, 0, 0, 0, 0, 0, 0, 1, 0, 0, 0, 0, 0, 0, 0, 0, 0, 0, 0],\n",
    "                'L': [0, 0, 0, 0, 0, 0, 0, 0, 0, 1, 0, 0, 0, 0, 0, 0, 0, 0, 0, 0],\n",
    "                'M': [0, 0, 0, 0, 0, 0, 0, 0, 0, 0, 1, 0, 0, 0, 0, 0, 0, 0, 0, 0],\n",
    "                'N': [0, 0, 0, 0, 0, 0, 0, 0, 0, 0, 0, 1, 0, 0, 0, 0, 0, 0, 0, 0],\n",
    "                'P': [0, 0, 0, 0, 0, 0, 0, 0, 0, 0, 0, 0, 1, 0, 0, 0, 0, 0, 0, 0],\n",
    "                'Q': [0, 0, 0, 0, 0, 0, 0, 0, 0, 0, 0, 0, 0, 1, 0, 0, 0, 0, 0, 0],\n",
    "                'R': [0, 0, 0, 0, 0, 0, 0, 0, 0, 0, 0, 0, 0, 0, 1, 0, 0, 0, 0, 0],\n",
    "                'S': [0, 0, 0, 0, 0, 0, 0, 0, 0, 0, 0, 0, 0, 0, 0, 1, 0, 0, 0, 0],\n",
    "                'T': [0, 0, 0, 0, 0, 0, 0, 0, 0, 0, 0, 0, 0, 0, 0, 0, 1, 0, 0, 0],\n",
    "                'V': [0, 0, 0, 0, 0, 0, 0, 0, 0, 0, 0, 0, 0, 0, 0, 0, 0, 1, 0, 0],\n",
    "                'W': [0, 0, 0, 0, 0, 0, 0, 0, 0, 0, 0, 0, 0, 0, 0, 0, 0, 0, 1, 0],\n",
    "                'Y': [0, 0, 0, 0, 0, 0, 0, 0, 0, 0, 0, 0, 0, 0, 0, 0, 0, 0, 0, 1]}\n",
    "cdr3_encoded = [[encoding_map[char] for char in sequence] for sequence in balanced_dataset['TRA_TRB_Combined']]\n",
    "antigen_encoded = [[encoding_map[char] for char in sequence] for sequence in balanced_dataset['antigen_epitope']]\n",
    "##one-hot representation encoding stage completed\n",
    "##next step is padding all input into one size.\n",
    "longest_cdr3 = max(balanced_dataset['TRA_TRB_Combined'], key=len)\n",
    "print(\"Longest cdr3:\", longest_cdr3)\n",
    "print(\"Longest cdr3's length:\", len(longest_cdr3))\n",
    "longest_antigen_epitope = max(balanced_dataset['antigen_epitope'], key=len)\n",
    "print(\"Longest antigen_epitope:\", longest_antigen_epitope)\n",
    "print(\"Longest antigen_epitope's length:\", len(longest_antigen_epitope))\n",
    "\n",
    "\n",
    "def padding_sequence(origin, sequence_length):\n",
    "    padded = np.zeros((sequence_length, 20))\n",
    "    padded[:len(origin)] = origin\n",
    "    return padded\n",
    "\n",
    "\n",
    "cdr3_encoded_padded = [padding_sequence(seq, len(longest_cdr3)) for seq in cdr3_encoded]\n",
    "antigen_encoded_padded = [padding_sequence(seq, len(longest_antigen_epitope)) for seq in antigen_encoded]\n",
    "cdr3_encoded_padded_flat = [seq.flatten() for seq in cdr3_encoded_padded]\n",
    "antigen_encoded_padded_flat = [seq.flatten() for seq in antigen_encoded_padded]\n",
    "balanced_dataset['cdr3_code'] = cdr3_encoded_padded_flat\n",
    "balanced_dataset['antigen_code'] = antigen_encoded_padded_flat"
   ]
  },
  {
   "cell_type": "code",
   "execution_count": 8,
   "id": "6cad9bac-f60e-4428-ac22-84e94051acc2",
   "metadata": {},
   "outputs": [],
   "source": [
    "balanced_dataset['input'] = balanced_dataset.apply(lambda row: list(row['cdr3_code']) + list(row['antigen_code']), axis=1)\n",
    "##splice cdr3_code abd antigen_code"
   ]
  },
  {
   "cell_type": "code",
   "execution_count": 13,
   "id": "9537deb5-b895-406b-9cf6-5f2dad3e0cb3",
   "metadata": {},
   "outputs": [],
   "source": [
    "# 划分特征和目标变量\n",
    "from sklearn.metrics import accuracy_score\n",
    "from sklearn.model_selection import train_test_split\n",
    "X = np.array(balanced_dataset['input'].tolist())  # cdr3和待选抗原作为特征\n",
    "y = np.array(balanced_dataset['label'].tolist())  # label做为标签\n",
    "# 划分训练集和测试集\n",
    "X_train, X_test, y_train, y_test = train_test_split(X, y, test_size=0.2, random_state=42)"
   ]
  },
  {
   "cell_type": "code",
   "execution_count": 12,
   "id": "d71509b0-d2a8-44d6-945d-55d82a7fc638",
   "metadata": {},
   "outputs": [
    {
     "name": "stdout",
     "output_type": "stream",
     "text": [
      "Recall: 0.8967297762478486\n",
      "Precision: 0.8256735340729001\n",
      "F1 Score: 0.8597359735973599\n",
      "Accuracy: 0.8566610455311973\n"
     ]
    }
   ],
   "source": [
    "##Logistic Regression Model\n",
    "# 使用逻辑回归模型进行分类\n",
    "from sklearn.linear_model import LogisticRegression\n",
    "\n",
    "# 初始化逻辑回归模型\n",
    "logistic_regression = LogisticRegression(max_iter=1000)\n",
    "\n",
    "# 训练模型\n",
    "logistic_regression.fit(X_train, y_train)\n",
    "\n",
    "# 预测测试集\n",
    "y_pred = logistic_regression.predict(X_test)\n",
    "\n",
    "# 评估模型性能\n",
    "from sklearn.metrics import accuracy_score\n",
    "from sklearn.metrics import recall_score, precision_score, f1_score\n",
    "recall = recall_score(y_test, y_pred)\n",
    "precision = precision_score(y_test, y_pred)\n",
    "f1 = f1_score(y_test, y_pred)\n",
    "accuracy = accuracy_score(y_test, y_pred)\n",
    "print(\"Recall:\", recall)\n",
    "print(\"Precision:\", precision)\n",
    "print(\"F1 Score:\", f1)\n",
    "print(\"Accuracy:\", accuracy)"
   ]
  },
  {
   "cell_type": "code",
   "execution_count": 15,
   "id": "cf5c8ae2-022c-4801-b3ee-5c99691a1654",
   "metadata": {},
   "outputs": [
    {
     "name": "stdout",
     "output_type": "stream",
     "text": [
      "Recall: 0.8657487091222031\n",
      "Precision: 0.8525423728813559\n",
      "F1 Score: 0.8590947907771136\n",
      "Accuracy: 0.8608768971332209\n"
     ]
    }
   ],
   "source": [
    "#DecisionTreeClassifier\n",
    "from sklearn.tree import DecisionTreeClassifier\n",
    "# 初始化决策树模型\n",
    "decision_tree = DecisionTreeClassifier()\n",
    "\n",
    "# 在训练集上拟合模型\n",
    "decision_tree.fit(X_train, y_train)\n",
    "\n",
    "# 在测试集上进行预测\n",
    "y_pred = decision_tree.predict(X_test)\n",
    "\n",
    "# 计算准确率\n",
    "from sklearn.metrics import accuracy_score\n",
    "from sklearn.metrics import recall_score, precision_score, f1_score\n",
    "recall = recall_score(y_test, y_pred)\n",
    "precision = precision_score(y_test, y_pred)\n",
    "f1 = f1_score(y_test, y_pred)\n",
    "accuracy = accuracy_score(y_test, y_pred)\n",
    "print(\"Recall:\", recall)\n",
    "print(\"Precision:\", precision)\n",
    "print(\"F1 Score:\", f1)\n",
    "print(\"Accuracy:\", accuracy)"
   ]
  },
  {
   "cell_type": "code",
   "execution_count": 17,
   "id": "9327e406-95bd-4bc7-8fa7-d079b6e3f7ba",
   "metadata": {},
   "outputs": [
    {
     "name": "stdout",
     "output_type": "stream",
     "text": [
      "Recall: 0.1721170395869191\n",
      "Precision: 0.9174311926605505\n",
      "F1 Score: 0.2898550724637681\n",
      "Accuracy: 0.5868465430016864\n"
     ]
    }
   ],
   "source": [
    "##Naive_bayes Model\n",
    "from sklearn.naive_bayes import GaussianNB\n",
    "# 初始化朴素贝叶斯模型\n",
    "naive_bayes = GaussianNB()\n",
    "\n",
    "# 在训练集上拟合模型\n",
    "naive_bayes.fit(X_train, y_train)\n",
    "\n",
    "# 在测试集上进行预测\n",
    "y_pred = naive_bayes.predict(X_test)\n",
    "\n",
    "# 计算准确率\n",
    "from sklearn.metrics import accuracy_score\n",
    "from sklearn.metrics import recall_score, precision_score, f1_score\n",
    "recall = recall_score(y_test, y_pred)\n",
    "precision = precision_score(y_test, y_pred)\n",
    "f1 = f1_score(y_test, y_pred)\n",
    "accuracy = accuracy_score(y_test, y_pred)\n",
    "print(\"Recall:\", recall)\n",
    "print(\"Precision:\", precision)\n",
    "print(\"F1 Score:\", f1)\n",
    "print(\"Accuracy:\", accuracy)"
   ]
  },
  {
   "cell_type": "code",
   "execution_count": 19,
   "id": "12d9791a-2ab2-42c0-b406-4b7a4f0d9cb9",
   "metadata": {},
   "outputs": [
    {
     "name": "stdout",
     "output_type": "stream",
     "text": [
      "Recall: 0.8347676419965576\n",
      "Precision: 0.8319039451114922\n",
      "F1 Score: 0.8333333333333334\n",
      "Accuracy: 0.836424957841484\n"
     ]
    }
   ],
   "source": [
    "\n",
    "#KNN Model\n",
    "from sklearn.neighbors import KNeighborsClassifier\n",
    "from sklearn.metrics import accuracy_score\n",
    "\n",
    "# 初始化KNN模型\n",
    "knn_model = KNeighborsClassifier(n_neighbors=3)\n",
    "\n",
    "# 训练模型\n",
    "knn_model.fit(X_train, y_train)\n",
    "\n",
    "# 预测\n",
    "y_pred = knn_model.predict(X_test)\n",
    "\n",
    "# 计算准确率\n",
    "from sklearn.metrics import accuracy_score\n",
    "from sklearn.metrics import recall_score, precision_score, f1_score\n",
    "recall = recall_score(y_test, y_pred)\n",
    "precision = precision_score(y_test, y_pred)\n",
    "f1 = f1_score(y_test, y_pred)\n",
    "accuracy = accuracy_score(y_test, y_pred)\n",
    "print(\"Recall:\", recall)\n",
    "print(\"Precision:\", precision)\n",
    "print(\"F1 Score:\", f1)\n",
    "print(\"Accuracy:\", accuracy)"
   ]
  },
  {
   "cell_type": "code",
   "execution_count": null,
   "id": "ead2eb44-012f-4e59-91c8-633302b7114c",
   "metadata": {},
   "outputs": [],
   "source": []
  }
 ],
 "metadata": {
  "kernelspec": {
   "display_name": "PyTorch-1.8",
   "language": "python",
   "name": "pytorch-1.8"
  },
  "language_info": {
   "codemirror_mode": {
    "name": "ipython",
    "version": 3
   },
   "file_extension": ".py",
   "mimetype": "text/x-python",
   "name": "python",
   "nbconvert_exporter": "python",
   "pygments_lexer": "ipython3",
   "version": "3.7.10"
  }
 },
 "nbformat": 4,
 "nbformat_minor": 5
}
