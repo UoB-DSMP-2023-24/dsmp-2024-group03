{
 "cells": [
  {
   "cell_type": "code",
   "execution_count": 2,
   "id": "a35b5f8e-cd4d-43a8-946a-65d89c9e7f13",
   "metadata": {},
   "outputs": [
    {
     "name": "stdout",
     "output_type": "stream",
     "text": [
      "['complex.id', 'gene', 'cdr3', 'v.segm', 'j.segm', 'species', 'mhc.a', 'mhc.b', 'mhc.class', 'antigen.epitope', 'antigen.gene', 'antigen.species', 'reference.id', 'method', 'meta', 'cdr3fix', 'vdjdb.score', 'web.method', 'web.method.seq', 'web.cdr3fix.nc', 'web.cdr3fix.unmp']\n"
     ]
    }
   ],
   "source": [
    "\n",
    "from torch.utils.data import TensorDataset, DataLoader\n",
    "\n",
    "import numpy as np\n",
    "import pandas as pd\n",
    "\n",
    "\n",
    "##------------------读取文件----------------------------------------------------\n",
    "# 定义文件路径\n",
    "file_path = 'vdjdb.txt'  # 将 'your_file.txt' 替换为你的文件路径\n",
    "\n",
    "# 读取文件内容\n",
    "with open(file_path, 'r', encoding='utf-8') as file:\n",
    "    # 读取文件的第一行，获取所有的信息变量名\n",
    "    header = file.readline().strip().split('\\t')\n",
    "    tcr_data = [dict(zip(header, line.strip().split('\\t'))) for line in file]\n",
    "print(header)"
   ]
  },
  {
   "cell_type": "code",
   "execution_count": 3,
   "id": "328ca186-7dcf-4fec-b5fc-68944f538946",
   "metadata": {},
   "outputs": [],
   "source": [
    "# --------------清洗第一步，提取所需属性-----------------------------------\n",
    "selected_data = [{'cdr3': entry['cdr3'],\n",
    "                  'antigen.epitope': entry['antigen.epitope'],\n",
    "                  'vdjdb.score': entry['vdjdb.score']}\n",
    "                 for entry in tcr_data]\n",
    "##------------------------------------------------------------------------\n",
    "\n",
    "\n",
    "# ---清洗第二步，转化为数据集，并删去重复元素,同时删除可信度低的行-----------------------\n",
    "df_raw = pd.DataFrame(selected_data)\n",
    "df_clean = df_raw[df_raw['vdjdb.score'] != '0']\n",
    "df_clean = df_clean.reset_index(drop=True)"
   ]
  },
  {
   "cell_type": "code",
   "execution_count": 4,
   "id": "e3c8c997-8e52-447c-a75e-5df2fc791c3d",
   "metadata": {},
   "outputs": [],
   "source": [
    "neg_data= df_raw[df_raw['vdjdb.score'] == '0']\n",
    "neg_data = neg_data.reset_index(drop=True)\n",
    "pos_data=df_raw[df_raw['vdjdb.score'] != '0']\n",
    "pos_data = pos_data.reset_index(drop=True)\n",
    "num_positive_samples = len(pos_data)\n",
    "\n",
    "# 从阴性样本中随机抽取与阳性样本数量相同的样本\n",
    "neg_data_sampled = neg_data.sample(n=num_positive_samples, random_state=42)\n",
    "neg_data_sampled = neg_data_sampled.reset_index(drop=True)\n",
    "pos_data = pos_data.reset_index(drop=True)\n",
    "neg_data_sampled['label']=0\n",
    "pos_data['label']=1"
   ]
  },
  {
   "cell_type": "code",
   "execution_count": 5,
   "id": "a162d0ff-9f5f-4026-a37c-6ee1c4cd33af",
   "metadata": {},
   "outputs": [],
   "source": [
    "balanced_dataset = pd.concat([neg_data_sampled, pos_data], axis=0)\n",
    "balanced_dataset = balanced_dataset.reset_index(drop=True)"
   ]
  },
  {
   "cell_type": "code",
   "execution_count": 6,
   "id": "3bc8ca0a-08d3-417b-bf00-90e37a62f849",
   "metadata": {},
   "outputs": [
    {
     "data": {
      "text/html": [
       "<div>\n",
       "<style scoped>\n",
       "    .dataframe tbody tr th:only-of-type {\n",
       "        vertical-align: middle;\n",
       "    }\n",
       "\n",
       "    .dataframe tbody tr th {\n",
       "        vertical-align: top;\n",
       "    }\n",
       "\n",
       "    .dataframe thead th {\n",
       "        text-align: right;\n",
       "    }\n",
       "</style>\n",
       "<table border=\"1\" class=\"dataframe\">\n",
       "  <thead>\n",
       "    <tr style=\"text-align: right;\">\n",
       "      <th></th>\n",
       "      <th>cdr3</th>\n",
       "      <th>antigen.epitope</th>\n",
       "      <th>vdjdb.score</th>\n",
       "      <th>label</th>\n",
       "    </tr>\n",
       "  </thead>\n",
       "  <tbody>\n",
       "    <tr>\n",
       "      <th>0</th>\n",
       "      <td>CAVIGTTDSWGKLQF</td>\n",
       "      <td>KLGGALQAK</td>\n",
       "      <td>0</td>\n",
       "      <td>0</td>\n",
       "    </tr>\n",
       "    <tr>\n",
       "      <th>1</th>\n",
       "      <td>CAFMMNYGGSQGNLIF</td>\n",
       "      <td>KLGGALQAK</td>\n",
       "      <td>0</td>\n",
       "      <td>0</td>\n",
       "    </tr>\n",
       "    <tr>\n",
       "      <th>2</th>\n",
       "      <td>CASSGAGGEVFF</td>\n",
       "      <td>SYIGSINNI</td>\n",
       "      <td>0</td>\n",
       "      <td>0</td>\n",
       "    </tr>\n",
       "    <tr>\n",
       "      <th>3</th>\n",
       "      <td>CAASSLYGQNFVF</td>\n",
       "      <td>LLWNGPMAV</td>\n",
       "      <td>0</td>\n",
       "      <td>0</td>\n",
       "    </tr>\n",
       "    <tr>\n",
       "      <th>4</th>\n",
       "      <td>CARPPETQYF</td>\n",
       "      <td>ELAGIGILTV</td>\n",
       "      <td>0</td>\n",
       "      <td>0</td>\n",
       "    </tr>\n",
       "    <tr>\n",
       "      <th>...</th>\n",
       "      <td>...</td>\n",
       "      <td>...</td>\n",
       "      <td>...</td>\n",
       "      <td>...</td>\n",
       "    </tr>\n",
       "    <tr>\n",
       "      <th>24823</th>\n",
       "      <td>CASSQGSGGNEQFF</td>\n",
       "      <td>FPQPEQPFPWQP</td>\n",
       "      <td>2</td>\n",
       "      <td>1</td>\n",
       "    </tr>\n",
       "    <tr>\n",
       "      <th>24824</th>\n",
       "      <td>CAASVLYGSSNTGKLIF</td>\n",
       "      <td>QLQPFPQPELPY</td>\n",
       "      <td>2</td>\n",
       "      <td>1</td>\n",
       "    </tr>\n",
       "    <tr>\n",
       "      <th>24825</th>\n",
       "      <td>CASSIVGSGGYNEQFF</td>\n",
       "      <td>QLQPFPQPELPY</td>\n",
       "      <td>2</td>\n",
       "      <td>1</td>\n",
       "    </tr>\n",
       "    <tr>\n",
       "      <th>24826</th>\n",
       "      <td>CAPQGATNKLIF</td>\n",
       "      <td>PQQPFPQPEQPFP</td>\n",
       "      <td>2</td>\n",
       "      <td>1</td>\n",
       "    </tr>\n",
       "    <tr>\n",
       "      <th>24827</th>\n",
       "      <td>CASSLGAGGQETQYF</td>\n",
       "      <td>PQQPFPQPEQPFP</td>\n",
       "      <td>2</td>\n",
       "      <td>1</td>\n",
       "    </tr>\n",
       "  </tbody>\n",
       "</table>\n",
       "<p>24828 rows × 4 columns</p>\n",
       "</div>"
      ],
      "text/plain": [
       "                    cdr3 antigen.epitope vdjdb.score  label\n",
       "0        CAVIGTTDSWGKLQF       KLGGALQAK           0      0\n",
       "1       CAFMMNYGGSQGNLIF       KLGGALQAK           0      0\n",
       "2           CASSGAGGEVFF       SYIGSINNI           0      0\n",
       "3          CAASSLYGQNFVF       LLWNGPMAV           0      0\n",
       "4             CARPPETQYF      ELAGIGILTV           0      0\n",
       "...                  ...             ...         ...    ...\n",
       "24823     CASSQGSGGNEQFF    FPQPEQPFPWQP           2      1\n",
       "24824  CAASVLYGSSNTGKLIF    QLQPFPQPELPY           2      1\n",
       "24825   CASSIVGSGGYNEQFF    QLQPFPQPELPY           2      1\n",
       "24826       CAPQGATNKLIF   PQQPFPQPEQPFP           2      1\n",
       "24827    CASSLGAGGQETQYF   PQQPFPQPEQPFP           2      1\n",
       "\n",
       "[24828 rows x 4 columns]"
      ]
     },
     "execution_count": 6,
     "metadata": {},
     "output_type": "execute_result"
    }
   ],
   "source": [
    "balanced_dataset"
   ]
  },
  {
   "cell_type": "code",
   "execution_count": 7,
   "id": "60e94e0e-13a4-44b3-8730-60ffd83f5a42",
   "metadata": {},
   "outputs": [
    {
     "name": "stdout",
     "output_type": "stream",
     "text": [
      "最长的cdr3: CYSTWRLSCLLLCRDSAGAGSYQLTF\n",
      "最长cdr3的长度: 26\n",
      "最长的antigen_epitope: MTEYKLVVVGAVGVGKSALTIQLI\n",
      "最长antigen_epitope的长度: 24\n"
     ]
    }
   ],
   "source": [
    "##----------------接下来编码-------------------------------\n",
    "encoding_map = {'A': [1, 0, 0, 0, 0, 0, 0, 0, 0, 0, 0, 0, 0, 0, 0, 0, 0, 0, 0, 0],\n",
    "                'C': [0, 1, 0, 0, 0, 0, 0, 0, 0, 0, 0, 0, 0, 0, 0, 0, 0, 0, 0, 0],\n",
    "                'D': [0, 0, 1, 0, 0, 0, 0, 0, 0, 0, 0, 0, 0, 0, 0, 0, 0, 0, 0, 0],\n",
    "                'E': [0, 0, 0, 1, 0, 0, 0, 0, 0, 0, 0, 0, 0, 0, 0, 0, 0, 0, 0, 0],\n",
    "                'F': [0, 0, 0, 0, 1, 0, 0, 0, 0, 0, 0, 0, 0, 0, 0, 0, 0, 0, 0, 0],\n",
    "                'G': [0, 0, 0, 0, 0, 1, 0, 0, 0, 0, 0, 0, 0, 0, 0, 0, 0, 0, 0, 0],\n",
    "                'H': [0, 0, 0, 0, 0, 0, 1, 0, 0, 0, 0, 0, 0, 0, 0, 0, 0, 0, 0, 0],\n",
    "                'I': [0, 0, 0, 0, 0, 0, 0, 1, 0, 0, 0, 0, 0, 0, 0, 0, 0, 0, 0, 0],\n",
    "                'K': [0, 0, 0, 0, 0, 0, 0, 0, 1, 0, 0, 0, 0, 0, 0, 0, 0, 0, 0, 0],\n",
    "                'L': [0, 0, 0, 0, 0, 0, 0, 0, 0, 1, 0, 0, 0, 0, 0, 0, 0, 0, 0, 0],\n",
    "                'M': [0, 0, 0, 0, 0, 0, 0, 0, 0, 0, 1, 0, 0, 0, 0, 0, 0, 0, 0, 0],\n",
    "                'N': [0, 0, 0, 0, 0, 0, 0, 0, 0, 0, 0, 1, 0, 0, 0, 0, 0, 0, 0, 0],\n",
    "                'P': [0, 0, 0, 0, 0, 0, 0, 0, 0, 0, 0, 0, 1, 0, 0, 0, 0, 0, 0, 0],\n",
    "                'Q': [0, 0, 0, 0, 0, 0, 0, 0, 0, 0, 0, 0, 0, 1, 0, 0, 0, 0, 0, 0],\n",
    "                'R': [0, 0, 0, 0, 0, 0, 0, 0, 0, 0, 0, 0, 0, 0, 1, 0, 0, 0, 0, 0],\n",
    "                'S': [0, 0, 0, 0, 0, 0, 0, 0, 0, 0, 0, 0, 0, 0, 0, 1, 0, 0, 0, 0],\n",
    "                'T': [0, 0, 0, 0, 0, 0, 0, 0, 0, 0, 0, 0, 0, 0, 0, 0, 1, 0, 0, 0],\n",
    "                'V': [0, 0, 0, 0, 0, 0, 0, 0, 0, 0, 0, 0, 0, 0, 0, 0, 0, 1, 0, 0],\n",
    "                'W': [0, 0, 0, 0, 0, 0, 0, 0, 0, 0, 0, 0, 0, 0, 0, 0, 0, 0, 1, 0],\n",
    "                'Y': [0, 0, 0, 0, 0, 0, 0, 0, 0, 0, 0, 0, 0, 0, 0, 0, 0, 0, 0, 1]}\n",
    "cdr3_encoded = [[encoding_map[char] for char in sequence] for sequence in balanced_dataset['cdr3']]\n",
    "antigen_encoded = [[encoding_map[char] for char in sequence] for sequence in balanced_dataset['antigen.epitope']]\n",
    "##独热码成功编辑，但是矩阵长度不一致\n",
    "longest_cdr3 = max(balanced_dataset['cdr3'], key=len)\n",
    "print(\"最长的cdr3:\", longest_cdr3)\n",
    "print(\"最长cdr3的长度:\", len(longest_cdr3))\n",
    "longest_antigen_epitope = max(balanced_dataset['antigen.epitope'], key=len)\n",
    "print(\"最长的antigen_epitope:\", longest_antigen_epitope)\n",
    "print(\"最长antigen_epitope的长度:\", len(longest_antigen_epitope))\n",
    "\n",
    "\n",
    "def padding_sequence(origin, sequence_length):\n",
    "    padded = np.zeros((sequence_length, 20))\n",
    "    padded[:len(origin)] = origin\n",
    "    return padded\n",
    "\n",
    "\n",
    "cdr3_encoded_padded = [padding_sequence(seq, len(longest_cdr3)) for seq in cdr3_encoded]\n",
    "antigen_encoded_padded = [padding_sequence(seq, len(longest_antigen_epitope)) for seq in antigen_encoded]\n",
    "cdr3_encoded_padded_flat = [seq.flatten() for seq in cdr3_encoded_padded]\n",
    "antigen_encoded_padded_flat = [seq.flatten() for seq in antigen_encoded_padded]\n",
    "balanced_dataset['cdr3_code'] = cdr3_encoded_padded_flat\n",
    "balanced_dataset['antigen_code'] = antigen_encoded_padded_flat"
   ]
  },
  {
   "cell_type": "code",
   "execution_count": 12,
   "id": "8ff98935-ba8e-4bff-8b1e-caee71e61777",
   "metadata": {},
   "outputs": [],
   "source": [
    "balanced_dataset['input'] = balanced_dataset.apply(lambda row: list(row['cdr3_code']) + list(row['antigen_code']), axis=1)\n",
    "##确定输入\n",
    "# 划分特征和目标变量\n",
    "from sklearn.metrics import accuracy_score\n",
    "from sklearn.model_selection import train_test_split\n",
    "X = np.array(balanced_dataset['input'].tolist())  # cdr3和待选抗原作为特征\n",
    "y = np.array(balanced_dataset['label'].tolist())  # label做为标签\n",
    "# 划分训练集和测试集\n",
    "X_train, X_test, y_train, y_test = train_test_split(X, y, test_size=0.2, random_state=55)"
   ]
  },
  {
   "cell_type": "code",
   "execution_count": 13,
   "id": "d979c8ab-5c1d-4678-a1de-f8c06104f4ca",
   "metadata": {},
   "outputs": [
    {
     "name": "stdout",
     "output_type": "stream",
     "text": [
      "Recall: 0.8278522127486805\n",
      "Precision: 0.7946219797349962\n",
      "F1 Score: 0.810896798568304\n",
      "Accuracy: 0.8084977849375755\n"
     ]
    }
   ],
   "source": [
    "#DecisionTreeClassifier\n",
    "from sklearn.tree import DecisionTreeClassifier\n",
    "# 初始化决策树模型\n",
    "decision_tree = DecisionTreeClassifier()\n",
    "\n",
    "# 在训练集上拟合模型\n",
    "decision_tree.fit(X_train, y_train)\n",
    "\n",
    "# 在测试集上进行预测\n",
    "y_pred = decision_tree.predict(X_test)\n",
    "\n",
    "# 计算准确率\n",
    "from sklearn.metrics import accuracy_score\n",
    "from sklearn.metrics import recall_score, precision_score, f1_score\n",
    "recall = recall_score(y_test, y_pred)\n",
    "precision = precision_score(y_test, y_pred)\n",
    "f1 = f1_score(y_test, y_pred)\n",
    "accuracy = accuracy_score(y_test, y_pred)\n",
    "print(\"Recall:\", recall)\n",
    "print(\"Precision:\", precision)\n",
    "print(\"F1 Score:\", f1)\n",
    "print(\"Accuracy:\", accuracy)"
   ]
  },
  {
   "cell_type": "code",
   "execution_count": 14,
   "id": "67adb199-31b4-459c-8b9b-e29e8ffff1ea",
   "metadata": {},
   "outputs": [
    {
     "name": "stdout",
     "output_type": "stream",
     "text": [
      "Recall: 0.15468940316686966\n",
      "Precision: 0.8318777292576419\n",
      "F1 Score: 0.2608695652173913\n",
      "Accuracy: 0.5652436568666935\n"
     ]
    }
   ],
   "source": [
    "##Naive_bayes Model\n",
    "from sklearn.naive_bayes import GaussianNB\n",
    "# 初始化朴素贝叶斯模型\n",
    "naive_bayes = GaussianNB()\n",
    "\n",
    "# 在训练集上拟合模型\n",
    "naive_bayes.fit(X_train, y_train)\n",
    "\n",
    "# 在测试集上进行预测\n",
    "y_pred = naive_bayes.predict(X_test)\n",
    "\n",
    "# 计算准确率\n",
    "from sklearn.metrics import accuracy_score\n",
    "from sklearn.metrics import recall_score, precision_score, f1_score\n",
    "recall = recall_score(y_test, y_pred)\n",
    "precision = precision_score(y_test, y_pred)\n",
    "f1 = f1_score(y_test, y_pred)\n",
    "accuracy = accuracy_score(y_test, y_pred)\n",
    "print(\"Recall:\", recall)\n",
    "print(\"Precision:\", precision)\n",
    "print(\"F1 Score:\", f1)\n",
    "print(\"Accuracy:\", accuracy)"
   ]
  },
  {
   "cell_type": "code",
   "execution_count": 16,
   "id": "e002ea7b-b788-46d7-bd8e-1ffe98241b1f",
   "metadata": {},
   "outputs": [
    {
     "name": "stdout",
     "output_type": "stream",
     "text": [
      "Recall: 0.8327243199350386\n",
      "Precision: 0.7777777777777778\n",
      "F1 Score: 0.8043137254901962\n",
      "Accuracy: 0.7990334273056786\n"
     ]
    }
   ],
   "source": [
    "\n",
    "#KNN Model\n",
    "from sklearn.neighbors import KNeighborsClassifier\n",
    "from sklearn.metrics import accuracy_score\n",
    "\n",
    "# 初始化KNN模型\n",
    "knn_model = KNeighborsClassifier(n_neighbors=3)\n",
    "\n",
    "# 训练模型\n",
    "knn_model.fit(X_train, y_train)\n",
    "\n",
    "# 预测\n",
    "y_pred = knn_model.predict(X_test)\n",
    "\n",
    "# 计算准确率\n",
    "from sklearn.metrics import accuracy_score\n",
    "from sklearn.metrics import recall_score, precision_score, f1_score\n",
    "recall = recall_score(y_test, y_pred)\n",
    "precision = precision_score(y_test, y_pred)\n",
    "f1 = f1_score(y_test, y_pred)\n",
    "accuracy = accuracy_score(y_test, y_pred)\n",
    "print(\"Recall:\", recall)\n",
    "print(\"Precision:\", precision)\n",
    "print(\"F1 Score:\", f1)\n",
    "print(\"Accuracy:\", accuracy)"
   ]
  },
  {
   "cell_type": "code",
   "execution_count": 17,
   "id": "7f494e29-e73e-4630-9c0b-ba0a32e9acf8",
   "metadata": {},
   "outputs": [
    {
     "name": "stdout",
     "output_type": "stream",
     "text": [
      "Recall: 0.8493706861550954\n",
      "Precision: 0.7705340699815838\n",
      "F1 Score: 0.8080339899575126\n",
      "Accuracy: 0.7998389045509464\n"
     ]
    }
   ],
   "source": [
    "##Logistic Regression Model\n",
    "# 使用逻辑回归模型进行分类\n",
    "from sklearn.linear_model import LogisticRegression\n",
    "\n",
    "# 初始化逻辑回归模型\n",
    "logistic_regression = LogisticRegression(max_iter=1000)\n",
    "\n",
    "# 训练模型\n",
    "logistic_regression.fit(X_train, y_train)\n",
    "\n",
    "# 预测测试集\n",
    "y_pred = logistic_regression.predict(X_test)\n",
    "\n",
    "# 评估模型性能\n",
    "from sklearn.metrics import accuracy_score\n",
    "from sklearn.metrics import recall_score, precision_score, f1_score\n",
    "recall = recall_score(y_test, y_pred)\n",
    "precision = precision_score(y_test, y_pred)\n",
    "f1 = f1_score(y_test, y_pred)\n",
    "accuracy = accuracy_score(y_test, y_pred)\n",
    "print(\"Recall:\", recall)\n",
    "print(\"Precision:\", precision)\n",
    "print(\"F1 Score:\", f1)\n",
    "print(\"Accuracy:\", accuracy)"
   ]
  }
 ],
 "metadata": {
  "kernelspec": {
   "display_name": "PyTorch-1.8",
   "language": "python",
   "name": "pytorch-1.8"
  },
  "language_info": {
   "codemirror_mode": {
    "name": "ipython",
    "version": 3
   },
   "file_extension": ".py",
   "mimetype": "text/x-python",
   "name": "python",
   "nbconvert_exporter": "python",
   "pygments_lexer": "ipython3",
   "version": "3.7.10"
  }
 },
 "nbformat": 4,
 "nbformat_minor": 5
}
