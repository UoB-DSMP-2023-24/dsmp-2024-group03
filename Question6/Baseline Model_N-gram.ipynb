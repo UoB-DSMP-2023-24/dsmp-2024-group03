{
 "cells": [
  {
   "cell_type": "code",
   "execution_count": 1,
   "id": "6f2ceff6-1501-4a5c-bb33-0c883c474990",
   "metadata": {},
   "outputs": [
    {
     "name": "stdout",
     "output_type": "stream",
     "text": [
      "['complex.id', 'gene', 'cdr3', 'v.segm', 'j.segm', 'species', 'mhc.a', 'mhc.b', 'mhc.class', 'antigen.epitope', 'antigen.gene', 'antigen.species', 'reference.id', 'method', 'meta', 'cdr3fix', 'vdjdb.score', 'web.method', 'web.method.seq', 'web.cdr3fix.nc', 'web.cdr3fix.unmp']\n",
      "                  TRA                   TRB antigen_epitope vdjdb.score  \\\n",
      "1       CIVRAPGRADMRF  CASSYLPGQGDHYSNQPQHF        FLKEKGGL           2   \n",
      "2      CAVPSGAGSYQLTF   CASSFEPGQGFYSNQPQHF        FLKEKGGL           2   \n",
      "3         CAVKASGSRLT  CASSYEPGQVSHYSNQPQHF        FLKEKGGL           2   \n",
      "4       CAYRPPGTYKYIF        CASSALASLNEQFF        FLKEKGGL           2   \n",
      "5       CIVRAPGRADMRF  CASSYLPGQGDHYSNQPQHF        FLKEQGGL           2   \n",
      "...               ...                   ...             ...         ...   \n",
      "30590   CMDEGGSNYKLTF         CASSVRSTDTQYF    PQPELPYPQPQL           0   \n",
      "30591     CSLYNNNDMRF         CASSLRYTDTQYF    PQPELPYPQPQL           0   \n",
      "30592   CALSTDSWGKLQF       CASSPGQGGDNEQFF   PQQPFPQPEQPFP           0   \n",
      "30593    CAPQGATNKLIF       CASSLGAGGQETQYF   PQQPFPQPEQPFP           2   \n",
      "30594  CLVGGSGGYNKLIF         CASSSTAQETQYF   PQQPFPQPEQPFP           0   \n",
      "\n",
      "           species    mhc  \n",
      "1      HomoSapiens   MHCI  \n",
      "2      HomoSapiens   MHCI  \n",
      "3      HomoSapiens   MHCI  \n",
      "4      HomoSapiens   MHCI  \n",
      "5      HomoSapiens   MHCI  \n",
      "...            ...    ...  \n",
      "30590  HomoSapiens  MHCII  \n",
      "30591  HomoSapiens  MHCII  \n",
      "30592  HomoSapiens  MHCII  \n",
      "30593  HomoSapiens  MHCII  \n",
      "30594  HomoSapiens  MHCII  \n",
      "\n",
      "[30594 rows x 6 columns]\n"
     ]
    }
   ],
   "source": [
    "import pandas as pd\n",
    "from sklearn.multioutput import MultiOutputRegressor\n",
    "from sklearn.neighbors import KNeighborsRegressor\n",
    "\n",
    "import numpy as np\n",
    "\n",
    "# 定义文件路径\n",
    "file_path = 'vdjdb.txt'  # 将 'your_file.txt' 替换为你的文件路径\n",
    "\n",
    "# 读取文件内容\n",
    "with open(file_path, 'r', encoding='utf-8') as file:\n",
    "    # 读取文件的第一行，获取所有的信息变量名\n",
    "    header = file.readline().strip().split('\\t')\n",
    "    tcr_data = [dict(zip(header, line.strip().split('\\t'))) for line in file]\n",
    "print(header)\n",
    "cdr3_dict = {}\n",
    "for row in tcr_data:\n",
    "    complex_id = row['complex.id']\n",
    "    cdr3 = row['cdr3']\n",
    "    # 将相同 complex.id 的 cdr3 拼接起来\n",
    "    if complex_id in cdr3_dict:\n",
    "        cdr3_dict[complex_id].append(cdr3)\n",
    "    else:\n",
    "        cdr3_dict[complex_id] = [cdr3]\n",
    "# 假设有一个包含 TCR 序列的 DataFrame\n",
    "for row in tcr_data:\n",
    "    complex_id = row['complex.id']\n",
    "    antigen_epitope = row['antigen.epitope']\n",
    "    vdjdb_score = row['vdjdb.score']\n",
    "    species=row['species']\n",
    "    mhc=row['mhc.class']\n",
    "    # 将相同 complex.id 的 cdr3 拼接起来\n",
    "    if len(cdr3_dict[complex_id]) == 2:\n",
    "        cdr3_dict[complex_id].append(antigen_epitope)\n",
    "        cdr3_dict[complex_id].append(vdjdb_score)\n",
    "        cdr3_dict[complex_id].append(species)\n",
    "        cdr3_dict[complex_id].append(mhc)\n",
    "    else:\n",
    "        continue\n",
    "cdr3_dict.pop('0')\n",
    "##删除未配对的TCR\n",
    "df_cdr3 = pd.DataFrame(cdr3_dict)\n",
    "df_cdr3_trans = df_cdr3.transpose()\n",
    "names = ['TRA', 'TRB', 'antigen_epitope', 'vdjdb.score','species','mhc']\n",
    "df_cdr3_trans.columns = names\n",
    "print(df_cdr3_trans)"
   ]
  },
  {
   "cell_type": "code",
   "execution_count": 2,
   "id": "3e8dadb5-ca28-497c-ae97-af8fe53e276e",
   "metadata": {},
   "outputs": [],
   "source": [
    "df_cdr3_trans=df_cdr3_trans[df_cdr3_trans['species'] == 'HomoSapiens']\n",
    "neg_data= df_cdr3_trans[df_cdr3_trans['vdjdb.score'] == '0']\n",
    "pos_data_1= df_cdr3_trans[df_cdr3_trans['vdjdb.score'] == '1']\n",
    "pos_data_2= df_cdr3_trans[df_cdr3_trans['vdjdb.score'] == '2']\n",
    "pos_data_3= df_cdr3_trans[df_cdr3_trans['vdjdb.score'] == '3']\n",
    "# 复制 pos_data_2 的数据两次\n",
    "pos_data_2_copy = pos_data_2.copy()\n",
    "pos_data_2_copy = pd.concat([pos_data_2_copy] * 2, ignore_index=True)\n",
    "\n",
    "# 复制 pos_data_3 的数据三次\n",
    "pos_data_3_copy = pos_data_3.copy()\n",
    "pos_data_3_copy = pd.concat([pos_data_3_copy] * 3, ignore_index=True)\n",
    "\n",
    "# 将复制后的数据与 pos_data_1 拼接在一起\n",
    "pos_data = pd.concat([pos_data_1, pos_data_2_copy, pos_data_3_copy], ignore_index=True)\n",
    "# 确定阳性样本数量\n",
    "num_positive_samples = len(pos_data)\n",
    "\n",
    "# 从阴性样本中随机抽取与阳性样本数量相同的样本\n",
    "neg_data_sampled = neg_data.sample(n=num_positive_samples, random_state=42)\n",
    "neg_data_sampled = neg_data_sampled.reset_index(drop=True)\n",
    "pos_data = pos_data.reset_index(drop=True)\n",
    "neg_data_sampled['label']=0\n",
    "pos_data['label']=1"
   ]
  },
  {
   "cell_type": "code",
   "execution_count": 3,
   "id": "abc77d52-c4cb-4d2c-9533-6e4f6cd09332",
   "metadata": {},
   "outputs": [],
   "source": [
    "balanced_dataset = pd.concat([neg_data_sampled, pos_data], axis=0)\n",
    "balanced_dataset = balanced_dataset.reset_index(drop=True)\n",
    "balanced_dataset['TRA_TRB_Combined'] = balanced_dataset[\"TRA\"] + balanced_dataset[\"TRB\"]"
   ]
  },
  {
   "cell_type": "code",
   "execution_count": 121,
   "id": "c49d2347-7044-40e3-aad0-1b0827d1322e",
   "metadata": {},
   "outputs": [],
   "source": [
    "cdr_sequences = balanced_dataset['TRA_TRB_Combined'].tolist()\n",
    "from sklearn.feature_extraction.text import CountVectorizer\n",
    "vectorizer = CountVectorizer(analyzer='char', lowercase=False,ngram_range=(5,5), max_features = 2000)\n",
    "cdr_code = vectorizer.fit_transform(cdr_sequences)\n",
    "antigen_epitope_sequences=balanced_dataset['antigen_epitope'].tolist()\n",
    "antigen_epitope_code=vectorizer.fit_transform(antigen_epitope_sequences)\n",
    "# 将稀疏矩阵转换为列表\n",
    "cdr_code_list = cdr_code.toarray().tolist()\n",
    "antigen_epitope_code_list=antigen_epitope_code.toarray().tolist()\n",
    "# 将列表添加到 balanced_dataset 中\n",
    "balanced_dataset['cdr3_code'] = cdr_code_list\n",
    "balanced_dataset['antigen_code']=antigen_epitope_code_list"
   ]
  },
  {
   "cell_type": "code",
   "execution_count": 122,
   "id": "73ca0ec5-7817-438a-8a47-aca786c50777",
   "metadata": {},
   "outputs": [],
   "source": [
    "balanced_dataset['input'] = balanced_dataset.apply(lambda row: list(row['cdr3_code']) + list(row['antigen_code']), axis=1)"
   ]
  },
  {
   "cell_type": "code",
   "execution_count": 123,
   "id": "11e5739f-a3d6-40ed-a8e7-7137b675f6d2",
   "metadata": {},
   "outputs": [],
   "source": [
    "# 划分特征和目标变量\n",
    "from sklearn.metrics import accuracy_score\n",
    "from sklearn.model_selection import train_test_split\n",
    "X = np.array(balanced_dataset['input'].tolist())  # cdr3和待选抗原作为特征\n",
    "y = np.array(balanced_dataset['label'].tolist())  # label做为标签\n",
    "# 划分训练集和测试集\n",
    "X_train, X_test, y_train, y_test = train_test_split(X, y, test_size=0.2, random_state=42)"
   ]
  },
  {
   "cell_type": "code",
   "execution_count": 124,
   "id": "301348b7-409b-4644-80cd-03fd448e4c5c",
   "metadata": {},
   "outputs": [
    {
     "name": "stdout",
     "output_type": "stream",
     "text": [
      "Recall: 0.9292929292929293\n",
      "Precision: 0.8997555012224939\n",
      "F1 Score: 0.9142857142857144\n",
      "Accuracy: 0.9139650872817955\n"
     ]
    }
   ],
   "source": [
    "##Logistic Regression Model\n",
    "# 使用逻辑回归模型进行分类\n",
    "from sklearn.linear_model import LogisticRegression\n",
    "\n",
    "# 初始化逻辑回归模型\n",
    "logistic_regression = LogisticRegression(max_iter=1000)\n",
    "\n",
    "# 训练模型\n",
    "logistic_regression.fit(X_train, y_train)\n",
    "\n",
    "# 预测测试集\n",
    "y_pred = logistic_regression.predict(X_test)\n",
    "\n",
    "# 评估模型性能\n",
    "from sklearn.metrics import accuracy_score\n",
    "from sklearn.metrics import recall_score, precision_score, f1_score\n",
    "recall = recall_score(y_test, y_pred)\n",
    "precision = precision_score(y_test, y_pred)\n",
    "f1 = f1_score(y_test, y_pred)\n",
    "accuracy = accuracy_score(y_test, y_pred)\n",
    "print(\"Recall:\", recall)\n",
    "print(\"Precision:\", precision)\n",
    "print(\"F1 Score:\", f1)\n",
    "print(\"Accuracy:\", accuracy)"
   ]
  },
  {
   "cell_type": "code",
   "execution_count": 125,
   "id": "0cce4e9a-0788-4eed-9b34-ac4c49a2615a",
   "metadata": {},
   "outputs": [
    {
     "name": "stdout",
     "output_type": "stream",
     "text": [
      "Recall: 0.9292929292929293\n",
      "Precision: 0.9097651421508035\n",
      "F1 Score: 0.9194253591505309\n",
      "Accuracy: 0.919576059850374\n"
     ]
    }
   ],
   "source": [
    "#DecisionTreeClassifier\n",
    "from sklearn.tree import DecisionTreeClassifier\n",
    "# 初始化决策树模型\n",
    "decision_tree = DecisionTreeClassifier()\n",
    "\n",
    "# 在训练集上拟合模型\n",
    "decision_tree.fit(X_train, y_train)\n",
    "\n",
    "# 在测试集上进行预测\n",
    "y_pred = decision_tree.predict(X_test)\n",
    "\n",
    "# 计算准确率\n",
    "from sklearn.metrics import accuracy_score\n",
    "from sklearn.metrics import recall_score, precision_score, f1_score\n",
    "recall = recall_score(y_test, y_pred)\n",
    "precision = precision_score(y_test, y_pred)\n",
    "f1 = f1_score(y_test, y_pred)\n",
    "accuracy = accuracy_score(y_test, y_pred)\n",
    "print(\"Recall:\", recall)\n",
    "print(\"Precision:\", precision)\n",
    "print(\"F1 Score:\", f1)\n",
    "print(\"Accuracy:\", accuracy)"
   ]
  },
  {
   "cell_type": "code",
   "execution_count": 126,
   "id": "7a8454d3-a680-495d-bfb1-a1ea239a5c90",
   "metadata": {},
   "outputs": [
    {
     "name": "stdout",
     "output_type": "stream",
     "text": [
      "Recall: 0.9305555555555556\n",
      "Precision: 0.9509677419354838\n",
      "F1 Score: 0.9406509253350351\n",
      "Accuracy: 0.9420199501246883\n"
     ]
    }
   ],
   "source": [
    "from sklearn.ensemble import RandomForestClassifier\n",
    "# RandomForestClassfier\n",
    "random_forest_model = RandomForestClassifier(n_estimators=200,max_depth=None, max_features='log2', min_samples_split=2,random_state=45)\n",
    "random_forest_model.fit(X_train, y_train)\n",
    "\n",
    "# predict test\n",
    "y_pred = random_forest_model.predict(X_test)\n",
    "# accuracy\n",
    "from sklearn.metrics import accuracy_score\n",
    "from sklearn.metrics import recall_score, precision_score, f1_score\n",
    "recall = recall_score(y_test, y_pred)\n",
    "precision = precision_score(y_test, y_pred)\n",
    "f1 = f1_score(y_test, y_pred)\n",
    "accuracy = accuracy_score(y_test, y_pred)\n",
    "print(\"Recall:\", recall)\n",
    "print(\"Precision:\", precision)\n",
    "print(\"F1 Score:\", f1)\n",
    "print(\"Accuracy:\", accuracy)"
   ]
  },
  {
   "cell_type": "code",
   "execution_count": 127,
   "id": "0a3ddf40-8a89-4915-b031-48739a085355",
   "metadata": {},
   "outputs": [
    {
     "name": "stdout",
     "output_type": "stream",
     "text": [
      "Recall: 0.5896464646464646\n",
      "Precision: 0.9453441295546559\n",
      "F1 Score: 0.7262830482115086\n",
      "Accuracy: 0.7805486284289277\n"
     ]
    }
   ],
   "source": [
    "##Naive_bayes Model\n",
    "from sklearn.naive_bayes import GaussianNB\n",
    "# 初始化朴素贝叶斯模型\n",
    "naive_bayes = GaussianNB()\n",
    "\n",
    "# 在训练集上拟合模型\n",
    "naive_bayes.fit(X_train, y_train)\n",
    "\n",
    "# 在测试集上进行预测\n",
    "y_pred = naive_bayes.predict(X_test)\n",
    "\n",
    "# 计算准确率\n",
    "from sklearn.metrics import accuracy_score\n",
    "from sklearn.metrics import recall_score, precision_score, f1_score\n",
    "recall = recall_score(y_test, y_pred)\n",
    "precision = precision_score(y_test, y_pred)\n",
    "f1 = f1_score(y_test, y_pred)\n",
    "accuracy = accuracy_score(y_test, y_pred)\n",
    "print(\"Recall:\", recall)\n",
    "print(\"Precision:\", precision)\n",
    "print(\"F1 Score:\", f1)\n",
    "print(\"Accuracy:\", accuracy)"
   ]
  },
  {
   "cell_type": "code",
   "execution_count": 116,
   "id": "efb509bb-e674-4d0c-8c0d-9425d1adcbe7",
   "metadata": {},
   "outputs": [
    {
     "name": "stdout",
     "output_type": "stream",
     "text": [
      "Recall: 0.9154040404040404\n",
      "Precision: 0.9415584415584416\n",
      "F1 Score: 0.9282970550576184\n",
      "Accuracy: 0.9301745635910225\n"
     ]
    }
   ],
   "source": [
    "\n",
    "#KNN Model\n",
    "from sklearn.neighbors import KNeighborsClassifier\n",
    "from sklearn.metrics import accuracy_score\n",
    "\n",
    "# 初始化KNN模型\n",
    "knn_model = KNeighborsClassifier(n_neighbors=1)\n",
    "\n",
    "# 训练模型\n",
    "knn_model.fit(X_train, y_train)\n",
    "\n",
    "# 预测\n",
    "y_pred = knn_model.predict(X_test)\n",
    "\n",
    "# 计算准确率\n",
    "from sklearn.metrics import accuracy_score\n",
    "from sklearn.metrics import recall_score, precision_score, f1_score\n",
    "recall = recall_score(y_test, y_pred)\n",
    "precision = precision_score(y_test, y_pred)\n",
    "f1 = f1_score(y_test, y_pred)\n",
    "accuracy = accuracy_score(y_test, y_pred)\n",
    "print(\"Recall:\", recall)\n",
    "print(\"Precision:\", precision)\n",
    "print(\"F1 Score:\", f1)\n",
    "print(\"Accuracy:\", accuracy)"
   ]
  },
  {
   "cell_type": "code",
   "execution_count": null,
   "id": "4a3fdc38-2b38-4ce3-9952-5b36bf041698",
   "metadata": {},
   "outputs": [],
   "source": []
  }
 ],
 "metadata": {
  "kernelspec": {
   "display_name": "PyTorch-1.8",
   "language": "python",
   "name": "pytorch-1.8"
  },
  "language_info": {
   "codemirror_mode": {
    "name": "ipython",
    "version": 3
   },
   "file_extension": ".py",
   "mimetype": "text/x-python",
   "name": "python",
   "nbconvert_exporter": "python",
   "pygments_lexer": "ipython3",
   "version": "3.7.10"
  }
 },
 "nbformat": 4,
 "nbformat_minor": 5
}
